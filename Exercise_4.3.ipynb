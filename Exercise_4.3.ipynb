{
 "cells": [
  {
   "cell_type": "code",
   "execution_count": 1,
   "metadata": {
    "collapsed": true
   },
   "outputs": [],
   "source": [
    "import numpy as np\n",
    "import matplotlib.pyplot as plt\n",
    "import pandas as pd\n",
    "\n",
    "import warnings\n",
    "warnings.filterwarnings('ignore')"
   ]
  },
  {
   "cell_type": "code",
   "execution_count": 2,
   "outputs": [],
   "source": [
    "from sklearn import linear_model\n",
    "from sklearn.metrics import mean_squared_error as mse\n",
    "\n",
    "mapping = {0: \"Least Squares\", 1: \"Lasso\", 2:\"Ridge\", 3:\"Elastic Net\"}\n",
    "\n",
    "index = np.linspace(1, 24, 24)\n",
    "X = np.zeros((24, 11))\n",
    "\n",
    "for i in range(11):\n",
    "    X[:, i] = np.power(index, i)\n",
    "\n",
    "def corrupt(arr, num_corrupt):\n",
    "    corr_arr = arr.copy()\n",
    "    uwu = np.random.choice(24, num_corrupt)\n",
    "    for x in uwu:\n",
    "        corr_arr[x] = 0\n",
    "\n",
    "    return corr_arr\n",
    "\n",
    "def generate_models(y):\n",
    "    least_squares = linear_model.LinearRegression().fit(X, y)\n",
    "    lasso = linear_model.Lasso().fit(X, y)\n",
    "    ridge = linear_model.Ridge().fit(X, y)\n",
    "    elastic = linear_model.ElasticNet().fit(X, y)\n",
    "\n",
    "    return pd.DataFrame(data=[least_squares, lasso, ridge, elastic]).T.rename(columns=mapping),\\\n",
    "           pd.DataFrame(data=[least_squares.coef_, lasso.coef_, ridge.coef_, elastic.coef_]).T.rename(columns=mapping)\n",
    "\n",
    "\n",
    "def generate_predictions(y, linear_models):\n",
    "    least_squares_pred = linear_models[\"Least Squares\"][0].predict(X)\n",
    "    lasso_pred = linear_models[\"Lasso\"][0].predict(X)\n",
    "    ridge_pred = linear_models[\"Ridge\"][0].predict(X)\n",
    "    elastic_pred = linear_models[\"Elastic Net\"][0].predict(X)\n",
    "\n",
    "    return pd.DataFrame(data=[least_squares_pred, lasso_pred, ridge_pred, elastic_pred]).T.rename(columns=mapping), \\\n",
    "           pd.DataFrame(data=[mse(y, least_squares_pred), mse(y, lasso_pred), mse(y, ridge_pred), mse(y, elastic_pred)]).T.rename(columns=mapping)\n"
   ],
   "metadata": {
    "collapsed": false
   }
  },
  {
   "cell_type": "markdown",
   "source": [
    "<h1>Temperature Data</h1>"
   ],
   "metadata": {
    "collapsed": false
   }
  },
  {
   "cell_type": "code",
   "execution_count": 3,
   "outputs": [
    {
     "data": {
      "text/plain": "<Figure size 432x288 with 1 Axes>",
      "image/png": "[encoded data removed]"
     },
     "metadata": {
      "needs_background": "light"
     },
     "output_type": "display_data"
    }
   ],
   "source": [
    "temp = np.array([75,77,76,73,69,68,63,59,57,55,54,52,50,50,49,49,49,50,54,56,59,63,67,72])\n",
    "\n",
    "plt.plot(temp)\n",
    "plt.title(\"Temperature\")\n",
    "plt.show()"
   ],
   "metadata": {
    "collapsed": false
   }
  },
  {
   "cell_type": "code",
   "execution_count": 4,
   "outputs": [],
   "source": [
    "models, coefficients = generate_models(temp)\n",
    "predictions, errors = generate_predictions(temp, models)"
   ],
   "metadata": {
    "collapsed": false
   }
  },
  {
   "cell_type": "code",
   "execution_count": 5,
   "outputs": [
    {
     "data": {
      "text/plain": "    Least Squares      Lasso      Ridge  Elastic Net\n0       74.980834  75.672763  75.729830    76.059864\n1       77.190889  74.813551  76.136693    75.043279\n2       75.578633  73.458753  75.492902    73.556431\n3       73.034617  71.676952  73.464311    71.668479\n4       70.015444  69.541680  70.293163    69.453032\n5       66.588873  67.131536  66.550338    66.988210\n6       63.017635  64.530220  62.845116    64.356604\n7       59.700666  61.826434  59.614290    61.645120\n8       56.953602  59.113603  57.033923    58.944634\n9       54.865040  56.489334  55.044973    56.349423\n10      53.298778  54.054541  53.454473    53.956267\n11      52.012459  51.912100  52.062689    51.863148\n12      50.817305  50.164902  50.769834    50.167405\n13      49.699488  48.913137  49.629173    48.963217\n14      48.848537  48.250578  48.832910    48.338227\n15      48.579724  48.259631  48.638746    48.369098\n16      49.182897  49.004837  49.264643    49.115763\n17      50.767459  50.524471  50.792801    50.614068\n18      53.189484  52.819828  53.127276    52.866477\n19      56.129905  55.841710  56.038842    55.830451\n20      59.329812  59.473559  59.301601    59.404051\n21      62.867614  63.510597  62.874404    63.408251\n22      67.170794  67.634250  67.002292    67.565392\n23      72.179510  71.381033  72.004777    71.473110",
      "text/html": "<div>\n<style scoped>\n    .dataframe tbody tr th:only-of-type {\n        vertical-align: middle;\n    }\n\n    .dataframe tbody tr th {\n        vertical-align: top;\n    }\n\n    .dataframe thead th {\n        text-align: right;\n    }\n</style>\n<table border=\"1\" class=\"dataframe\">\n  <thead>\n    <tr style=\"text-align: right;\">\n      <th></th>\n      <th>Least Squares</th>\n      <th>Lasso</th>\n      <th>Ridge</th>\n      <th>Elastic Net</th>\n    </tr>\n  </thead>\n  <tbody>\n    <tr>\n      <th>0</th>\n      <td>74.980834</td>\n      <td>75.672763</td>\n      <td>75.729830</td>\n      <td>76.059864</td>\n    </tr>\n    <tr>\n      <th>1</th>\n      <td>77.190889</td>\n      <td>74.813551</td>\n      <td>76.136693</td>\n      <td>75.043279</td>\n    </tr>\n    <tr>\n      <th>2</th>\n      <td>75.578633</td>\n      <td>73.458753</td>\n      <td>75.492902</td>\n      <td>73.556431</td>\n    </tr>\n    <tr>\n      <th>3</th>\n      <td>73.034617</td>\n      <td>71.676952</td>\n      <td>73.464311</td>\n      <td>71.668479</td>\n    </tr>\n    <tr>\n      <th>4</th>\n      <td>70.015444</td>\n      <td>69.541680</td>\n      <td>70.293163</td>\n      <td>69.453032</td>\n    </tr>\n    <tr>\n      <th>5</th>\n      <td>66.588873</td>\n      <td>67.131536</td>\n      <td>66.550338</td>\n      <td>66.988210</td>\n    </tr>\n    <tr>\n      <th>6</th>\n      <td>63.017635</td>\n      <td>64.530220</td>\n      <td>62.845116</td>\n      <td>64.356604</td>\n    </tr>\n    <tr>\n      <th>7</th>\n      <td>59.700666</td>\n      <td>61.826434</td>\n      <td>59.614290</td>\n      <td>61.645120</td>\n    </tr>\n    <tr>\n      <th>8</th>\n      <td>56.953602</td>\n      <td>59.113603</td>\n      <td>57.033923</td>\n      <td>58.944634</td>\n    </tr>\n    <tr>\n      <th>9</th>\n      <td>54.865040</td>\n      <td>56.489334</td>\n      <td>55.044973</td>\n      <td>56.349423</td>\n    </tr>\n    <tr>\n      <th>10</th>\n      <td>53.298778</td>\n      <td>54.054541</td>\n      <td>53.454473</td>\n      <td>53.956267</td>\n    </tr>\n    <tr>\n      <th>11</th>\n      <td>52.012459</td>\n      <td>51.912100</td>\n      <td>52.062689</td>\n      <td>51.863148</td>\n    </tr>\n    <tr>\n      <th>12</th>\n      <td>50.817305</td>\n      <td>50.164902</td>\n      <td>50.769834</td>\n      <td>50.167405</td>\n    </tr>\n    <tr>\n      <th>13</th>\n      <td>49.699488</td>\n      <td>48.913137</td>\n      <td>49.629173</td>\n      <td>48.963217</td>\n    </tr>\n    <tr>\n      <th>14</th>\n      <td>48.848537</td>\n      <td>48.250578</td>\n      <td>48.832910</td>\n      <td>48.338227</td>\n    </tr>\n    <tr>\n      <th>15</th>\n      <td>48.579724</td>\n      <td>48.259631</td>\n      <td>48.638746</td>\n      <td>48.369098</td>\n    </tr>\n    <tr>\n      <th>16</th>\n      <td>49.182897</td>\n      <td>49.004837</td>\n      <td>49.264643</td>\n      <td>49.115763</td>\n    </tr>\n    <tr>\n      <th>17</th>\n      <td>50.767459</td>\n      <td>50.524471</td>\n      <td>50.792801</td>\n      <td>50.614068</td>\n    </tr>\n    <tr>\n      <th>18</th>\n      <td>53.189484</td>\n      <td>52.819828</td>\n      <td>53.127276</td>\n      <td>52.866477</td>\n    </tr>\n    <tr>\n      <th>19</th>\n      <td>56.129905</td>\n      <td>55.841710</td>\n      <td>56.038842</td>\n      <td>55.830451</td>\n    </tr>\n    <tr>\n      <th>20</th>\n      <td>59.329812</td>\n      <td>59.473559</td>\n      <td>59.301601</td>\n      <td>59.404051</td>\n    </tr>\n    <tr>\n      <th>21</th>\n      <td>62.867614</td>\n      <td>63.510597</td>\n      <td>62.874404</td>\n      <td>63.408251</td>\n    </tr>\n    <tr>\n      <th>22</th>\n      <td>67.170794</td>\n      <td>67.634250</td>\n      <td>67.002292</td>\n      <td>67.565392</td>\n    </tr>\n    <tr>\n      <th>23</th>\n      <td>72.179510</td>\n      <td>71.381033</td>\n      <td>72.004777</td>\n      <td>71.473110</td>\n    </tr>\n  </tbody>\n</table>\n</div>"
     },
     "execution_count": 5,
     "metadata": {},
     "output_type": "execute_result"
    }
   ],
   "source": [
    "predictions"
   ],
   "metadata": {
    "collapsed": false
   }
  },
  {
   "cell_type": "code",
   "execution_count": 6,
   "outputs": [
    {
     "data": {
      "text/plain": "    Least Squares         Lasso         Ridge   Elastic Net\n0    0.000000e+00  0.000000e+00  0.000000e+00  0.000000e+00\n1    2.989706e+01 -0.000000e+00  3.241997e-01 -1.934075e-01\n2   -1.894137e+01 -3.095035e-01  3.704667e-01 -2.980290e-01\n3    6.309327e+00  9.504506e-03 -7.091638e-02  9.765975e-03\n4   -1.297824e+00  1.803915e-04 -6.997972e-02  1.665940e-04\n5    1.689235e-01  1.991129e-06  2.143311e-02  1.608444e-06\n6   -1.406527e-02 -1.054194e-08 -2.667418e-03 -1.849481e-08\n7    7.450447e-04 -1.762444e-09  1.782699e-04 -1.822955e-09\n8   -2.424469e-05 -8.244823e-11 -6.718712e-06 -7.691089e-11\n9    4.414467e-07 -3.033693e-12  1.348149e-07 -2.580946e-12\n10  -3.441269e-09 -9.816566e-14 -1.122326e-09 -7.359630e-14",
      "text/html": "<div>\n<style scoped>\n    .dataframe tbody tr th:only-of-type {\n        vertical-align: middle;\n    }\n\n    .dataframe tbody tr th {\n        vertical-align: top;\n    }\n\n    .dataframe thead th {\n        text-align: right;\n    }\n</style>\n<table border=\"1\" class=\"dataframe\">\n  <thead>\n    <tr style=\"text-align: right;\">\n      <th></th>\n      <th>Least Squares</th>\n      <th>Lasso</th>\n      <th>Ridge</th>\n      <th>Elastic Net</th>\n    </tr>\n  </thead>\n  <tbody>\n    <tr>\n      <th>0</th>\n      <td>0.000000e+00</td>\n      <td>0.000000e+00</td>\n      <td>0.000000e+00</td>\n      <td>0.000000e+00</td>\n    </tr>\n    <tr>\n      <th>1</th>\n      <td>2.989706e+01</td>\n      <td>-0.000000e+00</td>\n      <td>3.241997e-01</td>\n      <td>-1.934075e-01</td>\n    </tr>\n    <tr>\n      <th>2</th>\n      <td>-1.894137e+01</td>\n      <td>-3.095035e-01</td>\n      <td>3.704667e-01</td>\n      <td>-2.980290e-01</td>\n    </tr>\n    <tr>\n      <th>3</th>\n      <td>6.309327e+00</td>\n      <td>9.504506e-03</td>\n      <td>-7.091638e-02</td>\n      <td>9.765975e-03</td>\n    </tr>\n    <tr>\n      <th>4</th>\n      <td>-1.297824e+00</td>\n      <td>1.803915e-04</td>\n      <td>-6.997972e-02</td>\n      <td>1.665940e-04</td>\n    </tr>\n    <tr>\n      <th>5</th>\n      <td>1.689235e-01</td>\n      <td>1.991129e-06</td>\n      <td>2.143311e-02</td>\n      <td>1.608444e-06</td>\n    </tr>\n    <tr>\n      <th>6</th>\n      <td>-1.406527e-02</td>\n      <td>-1.054194e-08</td>\n      <td>-2.667418e-03</td>\n      <td>-1.849481e-08</td>\n    </tr>\n    <tr>\n      <th>7</th>\n      <td>7.450447e-04</td>\n      <td>-1.762444e-09</td>\n      <td>1.782699e-04</td>\n      <td>-1.822955e-09</td>\n    </tr>\n    <tr>\n      <th>8</th>\n      <td>-2.424469e-05</td>\n      <td>-8.244823e-11</td>\n      <td>-6.718712e-06</td>\n      <td>-7.691089e-11</td>\n    </tr>\n    <tr>\n      <th>9</th>\n      <td>4.414467e-07</td>\n      <td>-3.033693e-12</td>\n      <td>1.348149e-07</td>\n      <td>-2.580946e-12</td>\n    </tr>\n    <tr>\n      <th>10</th>\n      <td>-3.441269e-09</td>\n      <td>-9.816566e-14</td>\n      <td>-1.122326e-09</td>\n      <td>-7.359630e-14</td>\n    </tr>\n  </tbody>\n</table>\n</div>"
     },
     "execution_count": 6,
     "metadata": {},
     "output_type": "execute_result"
    }
   ],
   "source": [
    "coefficients"
   ],
   "metadata": {
    "collapsed": false
   }
  },
  {
   "cell_type": "code",
   "execution_count": 7,
   "outputs": [
    {
     "data": {
      "text/plain": "   Least Squares     Lasso     Ridge  Elastic Net\n0       0.278469  1.533217  0.361983     1.373144",
      "text/html": "<div>\n<style scoped>\n    .dataframe tbody tr th:only-of-type {\n        vertical-align: middle;\n    }\n\n    .dataframe tbody tr th {\n        vertical-align: top;\n    }\n\n    .dataframe thead th {\n        text-align: right;\n    }\n</style>\n<table border=\"1\" class=\"dataframe\">\n  <thead>\n    <tr style=\"text-align: right;\">\n      <th></th>\n      <th>Least Squares</th>\n      <th>Lasso</th>\n      <th>Ridge</th>\n      <th>Elastic Net</th>\n    </tr>\n  </thead>\n  <tbody>\n    <tr>\n      <th>0</th>\n      <td>0.278469</td>\n      <td>1.533217</td>\n      <td>0.361983</td>\n      <td>1.373144</td>\n    </tr>\n  </tbody>\n</table>\n</div>"
     },
     "execution_count": 7,
     "metadata": {},
     "output_type": "execute_result"
    }
   ],
   "source": [
    "errors"
   ],
   "metadata": {
    "collapsed": false
   }
  },
  {
   "cell_type": "markdown",
   "source": [
    "<h1>Corrupted Temperature Data</h1>"
   ],
   "metadata": {
    "collapsed": false
   }
  },
  {
   "cell_type": "code",
   "execution_count": 8,
   "outputs": [
    {
     "data": {
      "text/plain": "<Figure size 432x288 with 1 Axes>",
      "image/png": "[encoded data removed]"
     },
     "metadata": {
      "needs_background": "light"
     },
     "output_type": "display_data"
    }
   ],
   "source": [
    "corr_temp = corrupt(temp, 1)\n",
    "\n",
    "plt.plot(corr_temp)\n",
    "plt.title(\"Corrupted Temperature\")\n",
    "plt.show()"
   ],
   "metadata": {
    "collapsed": false
   }
  },
  {
   "cell_type": "code",
   "execution_count": 9,
   "outputs": [],
   "source": [
    "corr_model, corr_coefficients = generate_models(corr_temp)\n",
    "corr_predictions, corr_errors = generate_predictions(temp, corr_model)"
   ],
   "metadata": {
    "collapsed": false
   }
  },
  {
   "cell_type": "code",
   "execution_count": 10,
   "outputs": [
    {
     "data": {
      "text/plain": "    Least Squares      Lasso      Ridge  Elastic Net\n0       74.858032  77.672505  74.199505    76.452162\n1       78.431071  75.128784  76.264960    74.505489\n2       74.027049  72.584892  77.278027    72.412340\n3       72.682938  70.087687  75.001355    70.235674\n4       71.248583  67.677995  70.100075    68.032809\n5       67.453340  65.388805  64.783303    65.853535\n6       62.312829  63.243334  60.945779    63.738051\n7       58.067201  61.253102  59.103261    61.714894\n8       55.952115  59.416221  58.405006    59.799026\n9       55.436677  57.716243  57.418393    57.990437\n10      54.925612  56.122025  55.134179    56.273707\n11      53.122060  54.589278  51.655472    54.619182\n12      50.089292  53.064643  48.228809    52.986621\n13      47.340514  51.493444  46.571334    51.332416\n14      46.832436  49.832518  47.763384    49.621830\n15      49.346598  48.069929  51.230544    47.848005\n16      53.219216  46.253724  54.452726    46.059932\n17      54.531813  44.532403  53.929840    44.402022\n18      49.507606  43.210259  47.523476    43.168453\n19      38.778969  42.821355  37.501384    42.876052\n20      31.205693  44.226559  32.355941    44.360130\n21      41.838616  48.738771  43.668655    48.898426\n22      74.244954  58.282300  71.869792    58.369109\n23      71.546786  75.593222  71.614801    75.449699",
      "text/html": "<div>\n<style scoped>\n    .dataframe tbody tr th:only-of-type {\n        vertical-align: middle;\n    }\n\n    .dataframe tbody tr th {\n        vertical-align: top;\n    }\n\n    .dataframe thead th {\n        text-align: right;\n    }\n</style>\n<table border=\"1\" class=\"dataframe\">\n  <thead>\n    <tr style=\"text-align: right;\">\n      <th></th>\n      <th>Least Squares</th>\n      <th>Lasso</th>\n      <th>Ridge</th>\n      <th>Elastic Net</th>\n    </tr>\n  </thead>\n  <tbody>\n    <tr>\n      <th>0</th>\n      <td>74.858032</td>\n      <td>77.672505</td>\n      <td>74.199505</td>\n      <td>76.452162</td>\n    </tr>\n    <tr>\n      <th>1</th>\n      <td>78.431071</td>\n      <td>75.128784</td>\n      <td>76.264960</td>\n      <td>74.505489</td>\n    </tr>\n    <tr>\n      <th>2</th>\n      <td>74.027049</td>\n      <td>72.584892</td>\n      <td>77.278027</td>\n      <td>72.412340</td>\n    </tr>\n    <tr>\n      <th>3</th>\n      <td>72.682938</td>\n      <td>70.087687</td>\n      <td>75.001355</td>\n      <td>70.235674</td>\n    </tr>\n    <tr>\n      <th>4</th>\n      <td>71.248583</td>\n      <td>67.677995</td>\n      <td>70.100075</td>\n      <td>68.032809</td>\n    </tr>\n    <tr>\n      <th>5</th>\n      <td>67.453340</td>\n      <td>65.388805</td>\n      <td>64.783303</td>\n      <td>65.853535</td>\n    </tr>\n    <tr>\n      <th>6</th>\n      <td>62.312829</td>\n      <td>63.243334</td>\n      <td>60.945779</td>\n      <td>63.738051</td>\n    </tr>\n    <tr>\n      <th>7</th>\n      <td>58.067201</td>\n      <td>61.253102</td>\n      <td>59.103261</td>\n      <td>61.714894</td>\n    </tr>\n    <tr>\n      <th>8</th>\n      <td>55.952115</td>\n      <td>59.416221</td>\n      <td>58.405006</td>\n      <td>59.799026</td>\n    </tr>\n    <tr>\n      <th>9</th>\n      <td>55.436677</td>\n      <td>57.716243</td>\n      <td>57.418393</td>\n      <td>57.990437</td>\n    </tr>\n    <tr>\n      <th>10</th>\n      <td>54.925612</td>\n      <td>56.122025</td>\n      <td>55.134179</td>\n      <td>56.273707</td>\n    </tr>\n    <tr>\n      <th>11</th>\n      <td>53.122060</td>\n      <td>54.589278</td>\n      <td>51.655472</td>\n      <td>54.619182</td>\n    </tr>\n    <tr>\n      <th>12</th>\n      <td>50.089292</td>\n      <td>53.064643</td>\n      <td>48.228809</td>\n      <td>52.986621</td>\n    </tr>\n    <tr>\n      <th>13</th>\n      <td>47.340514</td>\n      <td>51.493444</td>\n      <td>46.571334</td>\n      <td>51.332416</td>\n    </tr>\n    <tr>\n      <th>14</th>\n      <td>46.832436</td>\n      <td>49.832518</td>\n      <td>47.763384</td>\n      <td>49.621830</td>\n    </tr>\n    <tr>\n      <th>15</th>\n      <td>49.346598</td>\n      <td>48.069929</td>\n      <td>51.230544</td>\n      <td>47.848005</td>\n    </tr>\n    <tr>\n      <th>16</th>\n      <td>53.219216</td>\n      <td>46.253724</td>\n      <td>54.452726</td>\n      <td>46.059932</td>\n    </tr>\n    <tr>\n      <th>17</th>\n      <td>54.531813</td>\n      <td>44.532403</td>\n      <td>53.929840</td>\n      <td>44.402022</td>\n    </tr>\n    <tr>\n      <th>18</th>\n      <td>49.507606</td>\n      <td>43.210259</td>\n      <td>47.523476</td>\n      <td>43.168453</td>\n    </tr>\n    <tr>\n      <th>19</th>\n      <td>38.778969</td>\n      <td>42.821355</td>\n      <td>37.501384</td>\n      <td>42.876052</td>\n    </tr>\n    <tr>\n      <th>20</th>\n      <td>31.205693</td>\n      <td>44.226559</td>\n      <td>32.355941</td>\n      <td>44.360130</td>\n    </tr>\n    <tr>\n      <th>21</th>\n      <td>41.838616</td>\n      <td>48.738771</td>\n      <td>43.668655</td>\n      <td>48.898426</td>\n    </tr>\n    <tr>\n      <th>22</th>\n      <td>74.244954</td>\n      <td>58.282300</td>\n      <td>71.869792</td>\n      <td>58.369109</td>\n    </tr>\n    <tr>\n      <th>23</th>\n      <td>71.546786</td>\n      <td>75.593222</td>\n      <td>71.614801</td>\n      <td>75.449699</td>\n    </tr>\n  </tbody>\n</table>\n</div>"
     },
     "execution_count": 10,
     "metadata": {},
     "output_type": "execute_result"
    }
   ],
   "source": [
    "corr_predictions"
   ],
   "metadata": {
    "collapsed": false
   }
  },
  {
   "cell_type": "code",
   "execution_count": 11,
   "outputs": [
    {
     "data": {
      "text/plain": "    Least Squares         Lasso         Ridge   Elastic Net\n0    0.000000e+00  0.000000e+00  0.000000e+00  0.000000e+00\n1    1.665888e+02 -2.448633e+00 -8.517265e-01 -1.603569e+00\n2   -1.298944e+02 -5.280530e-02 -6.139719e-01 -1.413743e-01\n3    5.172843e+01  9.252363e-03  2.417510e+00  1.173327e-02\n4   -1.199332e+01 -7.653651e-05 -1.285422e+00 -5.445375e-05\n5    1.717232e+00 -8.779317e-06  2.931759e-01 -8.949466e-06\n6   -1.560472e-01 -2.890684e-07 -3.605392e-02 -3.062832e-07\n7    9.000001e-03 -4.399494e-09  2.573233e-03 -5.010211e-09\n8   -3.186098e-04  1.470041e-10 -1.066728e-04  1.320076e-10\n9    6.305289e-06  1.727226e-11  2.382783e-06  1.709243e-11\n10  -5.334451e-08  1.034877e-12 -2.217374e-08  1.043062e-12",
      "text/html": "<div>\n<style scoped>\n    .dataframe tbody tr th:only-of-type {\n        vertical-align: middle;\n    }\n\n    .dataframe tbody tr th {\n        vertical-align: top;\n    }\n\n    .dataframe thead th {\n        text-align: right;\n    }\n</style>\n<table border=\"1\" class=\"dataframe\">\n  <thead>\n    <tr style=\"text-align: right;\">\n      <th></th>\n      <th>Least Squares</th>\n      <th>Lasso</th>\n      <th>Ridge</th>\n      <th>Elastic Net</th>\n    </tr>\n  </thead>\n  <tbody>\n    <tr>\n      <th>0</th>\n      <td>0.000000e+00</td>\n      <td>0.000000e+00</td>\n      <td>0.000000e+00</td>\n      <td>0.000000e+00</td>\n    </tr>\n    <tr>\n      <th>1</th>\n      <td>1.665888e+02</td>\n      <td>-2.448633e+00</td>\n      <td>-8.517265e-01</td>\n      <td>-1.603569e+00</td>\n    </tr>\n    <tr>\n      <th>2</th>\n      <td>-1.298944e+02</td>\n      <td>-5.280530e-02</td>\n      <td>-6.139719e-01</td>\n      <td>-1.413743e-01</td>\n    </tr>\n    <tr>\n      <th>3</th>\n      <td>5.172843e+01</td>\n      <td>9.252363e-03</td>\n      <td>2.417510e+00</td>\n      <td>1.173327e-02</td>\n    </tr>\n    <tr>\n      <th>4</th>\n      <td>-1.199332e+01</td>\n      <td>-7.653651e-05</td>\n      <td>-1.285422e+00</td>\n      <td>-5.445375e-05</td>\n    </tr>\n    <tr>\n      <th>5</th>\n      <td>1.717232e+00</td>\n      <td>-8.779317e-06</td>\n      <td>2.931759e-01</td>\n      <td>-8.949466e-06</td>\n    </tr>\n    <tr>\n      <th>6</th>\n      <td>-1.560472e-01</td>\n      <td>-2.890684e-07</td>\n      <td>-3.605392e-02</td>\n      <td>-3.062832e-07</td>\n    </tr>\n    <tr>\n      <th>7</th>\n      <td>9.000001e-03</td>\n      <td>-4.399494e-09</td>\n      <td>2.573233e-03</td>\n      <td>-5.010211e-09</td>\n    </tr>\n    <tr>\n      <th>8</th>\n      <td>-3.186098e-04</td>\n      <td>1.470041e-10</td>\n      <td>-1.066728e-04</td>\n      <td>1.320076e-10</td>\n    </tr>\n    <tr>\n      <th>9</th>\n      <td>6.305289e-06</td>\n      <td>1.727226e-11</td>\n      <td>2.382783e-06</td>\n      <td>1.709243e-11</td>\n    </tr>\n    <tr>\n      <th>10</th>\n      <td>-5.334451e-08</td>\n      <td>1.034877e-12</td>\n      <td>-2.217374e-08</td>\n      <td>1.043062e-12</td>\n    </tr>\n  </tbody>\n</table>\n</div>"
     },
     "execution_count": 11,
     "metadata": {},
     "output_type": "execute_result"
    }
   ],
   "source": [
    "corr_coefficients"
   ],
   "metadata": {
    "collapsed": false
   }
  },
  {
   "cell_type": "code",
   "execution_count": 12,
   "outputs": [
    {
     "data": {
      "text/plain": "   Least Squares      Lasso      Ridge  Elastic Net\n0      69.007056  38.340523  66.250951    38.026379",
      "text/html": "<div>\n<style scoped>\n    .dataframe tbody tr th:only-of-type {\n        vertical-align: middle;\n    }\n\n    .dataframe tbody tr th {\n        vertical-align: top;\n    }\n\n    .dataframe thead th {\n        text-align: right;\n    }\n</style>\n<table border=\"1\" class=\"dataframe\">\n  <thead>\n    <tr style=\"text-align: right;\">\n      <th></th>\n      <th>Least Squares</th>\n      <th>Lasso</th>\n      <th>Ridge</th>\n      <th>Elastic Net</th>\n    </tr>\n  </thead>\n  <tbody>\n    <tr>\n      <th>0</th>\n      <td>69.007056</td>\n      <td>38.340523</td>\n      <td>66.250951</td>\n      <td>38.026379</td>\n    </tr>\n  </tbody>\n</table>\n</div>"
     },
     "execution_count": 12,
     "metadata": {},
     "output_type": "execute_result"
    }
   ],
   "source": [
    "corr_errors"
   ],
   "metadata": {
    "collapsed": false
   }
  },
  {
   "cell_type": "markdown",
   "source": [
    "As we can see, when we have an outlier data point, Lasso and Elastic Net significantly reduce the error due to added bias. Ridge also reduces the error, but not as much as Lasso and elastic net."
   ],
   "metadata": {
    "collapsed": false
   }
  },
  {
   "cell_type": "markdown",
   "source": [
    "<h1>Variance</h1>"
   ],
   "metadata": {
    "collapsed": false
   }
  },
  {
   "cell_type": "code",
   "execution_count": 13,
   "outputs": [],
   "source": [
    "linear_coef = []\n",
    "lasso_coef = []\n",
    "ridge_coef = []\n",
    "elastic_coef = []\n",
    "\n",
    "for r in range(11):\n",
    "    linear_coef.append([])\n",
    "    lasso_coef.append([])\n",
    "    ridge_coef.append([])\n",
    "    elastic_coef.append([])\n",
    "\n",
    "for attempt in range(10):\n",
    "    corr_temp = corrupt(temp, 3)\n",
    "    corr_coefficients = generate_models(corr_temp)[1]\n",
    "\n",
    "    for r in range(11):\n",
    "        linear_coef[r].append(corr_coefficients[\"Least Squares\"][r])\n",
    "        lasso_coef[r].append(corr_coefficients[\"Lasso\"][r])\n",
    "        ridge_coef[r].append(corr_coefficients[\"Ridge\"][r])\n",
    "        elastic_coef[r].append(corr_coefficients[\"Elastic Net\"][r])"
   ],
   "metadata": {
    "collapsed": false
   }
  },
  {
   "cell_type": "markdown",
   "source": [
    "The variance for the loadings of least squares regression:"
   ],
   "metadata": {
    "collapsed": false
   }
  },
  {
   "cell_type": "code",
   "execution_count": 14,
   "outputs": [
    {
     "name": "stdout",
     "output_type": "stream",
     "text": [
      "Variance for Coefficient #0:\t\t0.0\n",
      "Variance for Coefficient #1:\t\t288686.2618440877\n",
      "Variance for Coefficient #2:\t\t117080.26269824439\n",
      "Variance for Coefficient #3:\t\t12974.744292302394\n",
      "Variance for Coefficient #4:\t\t509.530258979146\n",
      "Variance for Coefficient #5:\t\t8.018693692770615\n",
      "Variance for Coefficient #6:\t\t0.05310423686861958\n",
      "Variance for Coefficient #7:\t\t0.00014677555403320856\n",
      "Variance for Coefficient #8:\t\t1.5716759048218355e-07\n",
      "Variance for Coefficient #9:\t\t5.376898936849649e-11\n",
      "Variance for Coefficient #10:\t\t3.4223080712357476e-15\n"
     ]
    }
   ],
   "source": [
    "for r in range(11):\n",
    "    print(\"Variance for Coefficient #\" + str(r) + \":\\t\\t\" + str(np.var(linear_coef[r])))"
   ],
   "metadata": {
    "collapsed": false
   }
  },
  {
   "cell_type": "markdown",
   "source": [
    "The variance for the loadings of lasso regression:"
   ],
   "metadata": {
    "collapsed": false
   }
  },
  {
   "cell_type": "code",
   "execution_count": 15,
   "outputs": [
    {
     "name": "stdout",
     "output_type": "stream",
     "text": [
      "Variance for Coefficient #0:\t\t0.0\n",
      "Variance for Coefficient #1:\t\t14.607871056063818\n",
      "Variance for Coefficient #2:\t\t0.06996521009150225\n",
      "Variance for Coefficient #3:\t\t5.224494300286004e-05\n",
      "Variance for Coefficient #4:\t\t4.8806619702040186e-08\n",
      "Variance for Coefficient #5:\t\t9.64348264397396e-11\n",
      "Variance for Coefficient #6:\t\t7.847840505031847e-14\n",
      "Variance for Coefficient #7:\t\t2.7405047354619917e-17\n",
      "Variance for Coefficient #8:\t\t3.5828559328731727e-20\n",
      "Variance for Coefficient #9:\t\t2.697707509278405e-22\n",
      "Variance for Coefficient #10:\t\t1.0509439082741233e-24\n"
     ]
    }
   ],
   "source": [
    "for r in range(11):\n",
    "    print(\"Variance for Coefficient #\" + str(r) + \":\\t\\t\" + str(np.var(lasso_coef[r])))"
   ],
   "metadata": {
    "collapsed": false
   }
  },
  {
   "cell_type": "markdown",
   "source": [
    "The variance for the loadings of ridge regression:"
   ],
   "metadata": {
    "collapsed": false
   }
  },
  {
   "cell_type": "code",
   "execution_count": 16,
   "outputs": [
    {
     "name": "stdout",
     "output_type": "stream",
     "text": [
      "Variance for Coefficient #0:\t\t0.0\n",
      "Variance for Coefficient #1:\t\t48.91772339634548\n",
      "Variance for Coefficient #2:\t\t62.80107177935965\n",
      "Variance for Coefficient #3:\t\t23.89692766304264\n",
      "Variance for Coefficient #4:\t\t4.370256214062166\n",
      "Variance for Coefficient #5:\t\t0.20007992289859233\n",
      "Variance for Coefficient #6:\t\t0.0026861864713960226\n",
      "Variance for Coefficient #7:\t\t1.2113068048251356e-05\n",
      "Variance for Coefficient #8:\t\t1.8484494968404693e-08\n",
      "Variance for Coefficient #9:\t\t8.250206477415283e-12\n",
      "Variance for Coefficient #10:\t\t6.451821492156242e-16\n"
     ]
    }
   ],
   "source": [
    "for r in range(11):\n",
    "    print(\"Variance for Coefficient #\" + str(r) + \":\\t\\t\" + str(np.var(ridge_coef[r])))"
   ],
   "metadata": {
    "collapsed": false
   }
  },
  {
   "cell_type": "markdown",
   "source": [
    "The variance for the loadings of elastic net regression:"
   ],
   "metadata": {
    "collapsed": false
   }
  },
  {
   "cell_type": "code",
   "execution_count": 17,
   "outputs": [
    {
     "name": "stdout",
     "output_type": "stream",
     "text": [
      "Variance for Coefficient #0:\t\t0.0\n",
      "Variance for Coefficient #1:\t\t4.789324007979637\n",
      "Variance for Coefficient #2:\t\t0.025116120550699794\n",
      "Variance for Coefficient #3:\t\t9.225622437799752e-05\n",
      "Variance for Coefficient #4:\t\t3.588475061910704e-08\n",
      "Variance for Coefficient #5:\t\t9.995764596931019e-11\n",
      "Variance for Coefficient #6:\t\t8.960150364580476e-14\n",
      "Variance for Coefficient #7:\t\t3.2499583636657845e-17\n",
      "Variance for Coefficient #8:\t\t2.96828316464521e-20\n",
      "Variance for Coefficient #9:\t\t2.592842000332687e-22\n",
      "Variance for Coefficient #10:\t\t1.0587642858160137e-24\n"
     ]
    }
   ],
   "source": [
    "for r in range(11):\n",
    "    print(\"Variance for Coefficient #\" + str(r) + \":\\t\\t\" + str(np.var(elastic_coef[r])))"
   ],
   "metadata": {
    "collapsed": false
   }
  },
  {
   "cell_type": "markdown",
   "source": [
    "So as we can see, normal least squares has a huge amount of variance, but since the models with regularlization has the added bias to be more robust toward outliers, there is less variance."
   ],
   "metadata": {
    "collapsed": false
   }
  },
  {
   "cell_type": "markdown",
   "source": [],
   "metadata": {
    "collapsed": false
   }
  }
 ],
 "metadata": {
  "kernelspec": {
   "display_name": "Python 3",
   "language": "python",
   "name": "python3"
  },
  "language_info": {
   "codemirror_mode": {
    "name": "ipython",
    "version": 2
   },
   "file_extension": ".py",
   "mimetype": "text/x-python",
   "name": "python",
   "nbconvert_exporter": "python",
   "pygments_lexer": "ipython2",
   "version": "2.7.6"
  }
 },
 "nbformat": 4,
 "nbformat_minor": 0
}
