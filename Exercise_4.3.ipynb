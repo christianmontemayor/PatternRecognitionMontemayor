{
 "cells": [
  {
   "cell_type": "code",
   "execution_count": 1,
   "metadata": {
    "collapsed": true
   },
   "outputs": [],
   "source": [
    "import numpy as np\n",
    "import matplotlib.pyplot as plt\n",
    "import pandas as pd"
   ]
  },
  {
   "cell_type": "code",
   "execution_count": 2,
   "outputs": [],
   "source": [
    "from sklearn import linear_model\n",
    "from sklearn.metrics import mean_squared_error as mse\n",
    "\n",
    "mapping = {0: \"Least Squares\", 1: \"Lasso\", 2:\"Ridge\", 3:\"Elastic Net\"}\n",
    "\n",
    "index = np.linspace(1, 24, 24)\n",
    "X = np.zeros((24, 11))\n",
    "\n",
    "for i in range(11):\n",
    "    X[:, i] = np.power(index, i)\n",
    "\n",
    "def corrupt(arr, num_corrupt):\n",
    "    corr_arr = arr.copy()\n",
    "    uwu = np.random.choice(24, num_corrupt)\n",
    "    for x in uwu:\n",
    "        corr_arr[x] = 0\n",
    "\n",
    "    return corr_arr\n",
    "\n",
    "def generate_models(y):\n",
    "    least_squares = linear_model.LinearRegression().fit(X, y)\n",
    "    lasso = linear_model.Lasso().fit(X, y)\n",
    "    ridge = linear_model.Ridge().fit(X, y)\n",
    "    elastic = linear_model.ElasticNet().fit(X, y)\n",
    "\n",
    "    return pd.DataFrame(data=[least_squares, lasso, ridge, elastic]).T.rename(columns=mapping),\\\n",
    "           pd.DataFrame(data=[least_squares.coef_, lasso.coef_, ridge.coef_, elastic.coef_]).T.rename(columns=mapping)\n",
    "\n",
    "\n",
    "def generate_predictions(y, linear_models):\n",
    "    least_squares_pred = linear_models[\"Least Squares\"][0].predict(X)\n",
    "    lasso_pred = linear_models[\"Lasso\"][0].predict(X)\n",
    "    ridge_pred = linear_models[\"Ridge\"][0].predict(X)\n",
    "    elastic_pred = linear_models[\"Elastic Net\"][0].predict(X)\n",
    "\n",
    "    return pd.DataFrame(data=[least_squares_pred, lasso_pred, ridge_pred, elastic_pred]).T.rename(columns=mapping), \\\n",
    "           pd.DataFrame(data=[mse(y, least_squares_pred), mse(y, lasso_pred), mse(y, ridge_pred), mse(y, elastic_pred)]).T.rename(columns=mapping)\n"
   ],
   "metadata": {
    "collapsed": false
   }
  },
  {
   "cell_type": "markdown",
   "source": [
    "<h1>Temperature Data</h1>"
   ],
   "metadata": {
    "collapsed": false
   }
  },
  {
   "cell_type": "code",
   "execution_count": 3,
   "outputs": [
    {
     "data": {
      "text/plain": "<Figure size 432x288 with 1 Axes>",
      "image/png": "[encoded data removed]"
     },
     "metadata": {
      "needs_background": "light"
     },
     "output_type": "display_data"
    }
   ],
   "source": [
    "temp = np.array([75,77,76,73,69,68,63,59,57,55,54,52,50,50,49,49,49,50,54,56,59,63,67,72])\n",
    "\n",
    "plt.plot(temp)\n",
    "plt.title(\"Temperature\")\n",
    "plt.show()"
   ],
   "metadata": {
    "collapsed": false
   }
  },
  {
   "cell_type": "code",
   "execution_count": 4,
   "outputs": [
    {
     "name": "stderr",
     "output_type": "stream",
     "text": [
      "C:\\Users\\chris\\DataspellProjects\\CRASA-NIJC\\venv\\uwu\\lib\\site-packages\\sklearn\\linear_model\\_coordinate_descent.py:648: ConvergenceWarning: Objective did not converge. You might want to increase the number of iterations, check the scale of the features or consider increasing regularisation. Duality gap: 2.606e+01, tolerance: 2.145e-01\n",
      "  model = cd_fast.enet_coordinate_descent(\n",
      "C:\\Users\\chris\\DataspellProjects\\CRASA-NIJC\\venv\\uwu\\lib\\site-packages\\sklearn\\linear_model\\_ridge.py:212: LinAlgWarning: Ill-conditioned matrix (rcond=1.69621e-28): result may not be accurate.\n",
      "  return linalg.solve(A, Xy, sym_pos=True, overwrite_a=True).T\n",
      "C:\\Users\\chris\\DataspellProjects\\CRASA-NIJC\\venv\\uwu\\lib\\site-packages\\sklearn\\linear_model\\_coordinate_descent.py:648: ConvergenceWarning: Objective did not converge. You might want to increase the number of iterations, check the scale of the features or consider increasing regularisation. Duality gap: 2.325e+01, tolerance: 2.145e-01\n",
      "  model = cd_fast.enet_coordinate_descent(\n"
     ]
    }
   ],
   "source": [
    "models, coefficients = generate_models(temp)\n",
    "predictions, errors = generate_predictions(temp, models)"
   ],
   "metadata": {
    "collapsed": false
   }
  },
  {
   "cell_type": "code",
   "execution_count": 5,
   "outputs": [
    {
     "data": {
      "text/plain": "    Least Squares      Lasso      Ridge  Elastic Net\n0       74.980834  75.672763  75.729830    76.059864\n1       77.190889  74.813551  76.136693    75.043279\n2       75.578633  73.458753  75.492902    73.556431\n3       73.034617  71.676952  73.464311    71.668479\n4       70.015444  69.541680  70.293163    69.453032\n5       66.588873  67.131536  66.550338    66.988210\n6       63.017635  64.530220  62.845116    64.356604\n7       59.700666  61.826434  59.614290    61.645120\n8       56.953602  59.113603  57.033923    58.944634\n9       54.865040  56.489334  55.044973    56.349423\n10      53.298778  54.054541  53.454473    53.956267\n11      52.012459  51.912100  52.062689    51.863148\n12      50.817305  50.164902  50.769834    50.167405\n13      49.699488  48.913137  49.629173    48.963217\n14      48.848537  48.250578  48.832910    48.338227\n15      48.579724  48.259631  48.638746    48.369098\n16      49.182897  49.004837  49.264643    49.115763\n17      50.767459  50.524471  50.792801    50.614068\n18      53.189484  52.819828  53.127276    52.866477\n19      56.129905  55.841710  56.038842    55.830451\n20      59.329812  59.473559  59.301601    59.404051\n21      62.867614  63.510597  62.874404    63.408251\n22      67.170794  67.634250  67.002292    67.565392\n23      72.179510  71.381033  72.004777    71.473110",
      "text/html": "<div>\n<style scoped>\n    .dataframe tbody tr th:only-of-type {\n        vertical-align: middle;\n    }\n\n    .dataframe tbody tr th {\n        vertical-align: top;\n    }\n\n    .dataframe thead th {\n        text-align: right;\n    }\n</style>\n<table border=\"1\" class=\"dataframe\">\n  <thead>\n    <tr style=\"text-align: right;\">\n      <th></th>\n      <th>Least Squares</th>\n      <th>Lasso</th>\n      <th>Ridge</th>\n      <th>Elastic Net</th>\n    </tr>\n  </thead>\n  <tbody>\n    <tr>\n      <th>0</th>\n      <td>74.980834</td>\n      <td>75.672763</td>\n      <td>75.729830</td>\n      <td>76.059864</td>\n    </tr>\n    <tr>\n      <th>1</th>\n      <td>77.190889</td>\n      <td>74.813551</td>\n      <td>76.136693</td>\n      <td>75.043279</td>\n    </tr>\n    <tr>\n      <th>2</th>\n      <td>75.578633</td>\n      <td>73.458753</td>\n      <td>75.492902</td>\n      <td>73.556431</td>\n    </tr>\n    <tr>\n      <th>3</th>\n      <td>73.034617</td>\n      <td>71.676952</td>\n      <td>73.464311</td>\n      <td>71.668479</td>\n    </tr>\n    <tr>\n      <th>4</th>\n      <td>70.015444</td>\n      <td>69.541680</td>\n      <td>70.293163</td>\n      <td>69.453032</td>\n    </tr>\n    <tr>\n      <th>5</th>\n      <td>66.588873</td>\n      <td>67.131536</td>\n      <td>66.550338</td>\n      <td>66.988210</td>\n    </tr>\n    <tr>\n      <th>6</th>\n      <td>63.017635</td>\n      <td>64.530220</td>\n      <td>62.845116</td>\n      <td>64.356604</td>\n    </tr>\n    <tr>\n      <th>7</th>\n      <td>59.700666</td>\n      <td>61.826434</td>\n      <td>59.614290</td>\n      <td>61.645120</td>\n    </tr>\n    <tr>\n      <th>8</th>\n      <td>56.953602</td>\n      <td>59.113603</td>\n      <td>57.033923</td>\n      <td>58.944634</td>\n    </tr>\n    <tr>\n      <th>9</th>\n      <td>54.865040</td>\n      <td>56.489334</td>\n      <td>55.044973</td>\n      <td>56.349423</td>\n    </tr>\n    <tr>\n      <th>10</th>\n      <td>53.298778</td>\n      <td>54.054541</td>\n      <td>53.454473</td>\n      <td>53.956267</td>\n    </tr>\n    <tr>\n      <th>11</th>\n      <td>52.012459</td>\n      <td>51.912100</td>\n      <td>52.062689</td>\n      <td>51.863148</td>\n    </tr>\n    <tr>\n      <th>12</th>\n      <td>50.817305</td>\n      <td>50.164902</td>\n      <td>50.769834</td>\n      <td>50.167405</td>\n    </tr>\n    <tr>\n      <th>13</th>\n      <td>49.699488</td>\n      <td>48.913137</td>\n      <td>49.629173</td>\n      <td>48.963217</td>\n    </tr>\n    <tr>\n      <th>14</th>\n      <td>48.848537</td>\n      <td>48.250578</td>\n      <td>48.832910</td>\n      <td>48.338227</td>\n    </tr>\n    <tr>\n      <th>15</th>\n      <td>48.579724</td>\n      <td>48.259631</td>\n      <td>48.638746</td>\n      <td>48.369098</td>\n    </tr>\n    <tr>\n      <th>16</th>\n      <td>49.182897</td>\n      <td>49.004837</td>\n      <td>49.264643</td>\n      <td>49.115763</td>\n    </tr>\n    <tr>\n      <th>17</th>\n      <td>50.767459</td>\n      <td>50.524471</td>\n      <td>50.792801</td>\n      <td>50.614068</td>\n    </tr>\n    <tr>\n      <th>18</th>\n      <td>53.189484</td>\n      <td>52.819828</td>\n      <td>53.127276</td>\n      <td>52.866477</td>\n    </tr>\n    <tr>\n      <th>19</th>\n      <td>56.129905</td>\n      <td>55.841710</td>\n      <td>56.038842</td>\n      <td>55.830451</td>\n    </tr>\n    <tr>\n      <th>20</th>\n      <td>59.329812</td>\n      <td>59.473559</td>\n      <td>59.301601</td>\n      <td>59.404051</td>\n    </tr>\n    <tr>\n      <th>21</th>\n      <td>62.867614</td>\n      <td>63.510597</td>\n      <td>62.874404</td>\n      <td>63.408251</td>\n    </tr>\n    <tr>\n      <th>22</th>\n      <td>67.170794</td>\n      <td>67.634250</td>\n      <td>67.002292</td>\n      <td>67.565392</td>\n    </tr>\n    <tr>\n      <th>23</th>\n      <td>72.179510</td>\n      <td>71.381033</td>\n      <td>72.004777</td>\n      <td>71.473110</td>\n    </tr>\n  </tbody>\n</table>\n</div>"
     },
     "execution_count": 5,
     "metadata": {},
     "output_type": "execute_result"
    }
   ],
   "source": [
    "predictions"
   ],
   "metadata": {
    "collapsed": false
   }
  },
  {
   "cell_type": "code",
   "execution_count": 6,
   "outputs": [
    {
     "data": {
      "text/plain": "    Least Squares         Lasso         Ridge   Elastic Net\n0    0.000000e+00  0.000000e+00  0.000000e+00  0.000000e+00\n1    2.989706e+01 -0.000000e+00  3.241997e-01 -1.934075e-01\n2   -1.894137e+01 -3.095035e-01  3.704667e-01 -2.980290e-01\n3    6.309327e+00  9.504506e-03 -7.091638e-02  9.765975e-03\n4   -1.297824e+00  1.803915e-04 -6.997972e-02  1.665940e-04\n5    1.689235e-01  1.991129e-06  2.143311e-02  1.608444e-06\n6   -1.406527e-02 -1.054194e-08 -2.667418e-03 -1.849481e-08\n7    7.450447e-04 -1.762444e-09  1.782699e-04 -1.822955e-09\n8   -2.424469e-05 -8.244823e-11 -6.718712e-06 -7.691089e-11\n9    4.414467e-07 -3.033693e-12  1.348149e-07 -2.580946e-12\n10  -3.441269e-09 -9.816566e-14 -1.122326e-09 -7.359630e-14",
      "text/html": "<div>\n<style scoped>\n    .dataframe tbody tr th:only-of-type {\n        vertical-align: middle;\n    }\n\n    .dataframe tbody tr th {\n        vertical-align: top;\n    }\n\n    .dataframe thead th {\n        text-align: right;\n    }\n</style>\n<table border=\"1\" class=\"dataframe\">\n  <thead>\n    <tr style=\"text-align: right;\">\n      <th></th>\n      <th>Least Squares</th>\n      <th>Lasso</th>\n      <th>Ridge</th>\n      <th>Elastic Net</th>\n    </tr>\n  </thead>\n  <tbody>\n    <tr>\n      <th>0</th>\n      <td>0.000000e+00</td>\n      <td>0.000000e+00</td>\n      <td>0.000000e+00</td>\n      <td>0.000000e+00</td>\n    </tr>\n    <tr>\n      <th>1</th>\n      <td>2.989706e+01</td>\n      <td>-0.000000e+00</td>\n      <td>3.241997e-01</td>\n      <td>-1.934075e-01</td>\n    </tr>\n    <tr>\n      <th>2</th>\n      <td>-1.894137e+01</td>\n      <td>-3.095035e-01</td>\n      <td>3.704667e-01</td>\n      <td>-2.980290e-01</td>\n    </tr>\n    <tr>\n      <th>3</th>\n      <td>6.309327e+00</td>\n      <td>9.504506e-03</td>\n      <td>-7.091638e-02</td>\n      <td>9.765975e-03</td>\n    </tr>\n    <tr>\n      <th>4</th>\n      <td>-1.297824e+00</td>\n      <td>1.803915e-04</td>\n      <td>-6.997972e-02</td>\n      <td>1.665940e-04</td>\n    </tr>\n    <tr>\n      <th>5</th>\n      <td>1.689235e-01</td>\n      <td>1.991129e-06</td>\n      <td>2.143311e-02</td>\n      <td>1.608444e-06</td>\n    </tr>\n    <tr>\n      <th>6</th>\n      <td>-1.406527e-02</td>\n      <td>-1.054194e-08</td>\n      <td>-2.667418e-03</td>\n      <td>-1.849481e-08</td>\n    </tr>\n    <tr>\n      <th>7</th>\n      <td>7.450447e-04</td>\n      <td>-1.762444e-09</td>\n      <td>1.782699e-04</td>\n      <td>-1.822955e-09</td>\n    </tr>\n    <tr>\n      <th>8</th>\n      <td>-2.424469e-05</td>\n      <td>-8.244823e-11</td>\n      <td>-6.718712e-06</td>\n      <td>-7.691089e-11</td>\n    </tr>\n    <tr>\n      <th>9</th>\n      <td>4.414467e-07</td>\n      <td>-3.033693e-12</td>\n      <td>1.348149e-07</td>\n      <td>-2.580946e-12</td>\n    </tr>\n    <tr>\n      <th>10</th>\n      <td>-3.441269e-09</td>\n      <td>-9.816566e-14</td>\n      <td>-1.122326e-09</td>\n      <td>-7.359630e-14</td>\n    </tr>\n  </tbody>\n</table>\n</div>"
     },
     "execution_count": 6,
     "metadata": {},
     "output_type": "execute_result"
    }
   ],
   "source": [
    "coefficients"
   ],
   "metadata": {
    "collapsed": false
   }
  },
  {
   "cell_type": "code",
   "execution_count": 7,
   "outputs": [
    {
     "data": {
      "text/plain": "   Least Squares     Lasso     Ridge  Elastic Net\n0       0.278469  1.533217  0.361983     1.373144",
      "text/html": "<div>\n<style scoped>\n    .dataframe tbody tr th:only-of-type {\n        vertical-align: middle;\n    }\n\n    .dataframe tbody tr th {\n        vertical-align: top;\n    }\n\n    .dataframe thead th {\n        text-align: right;\n    }\n</style>\n<table border=\"1\" class=\"dataframe\">\n  <thead>\n    <tr style=\"text-align: right;\">\n      <th></th>\n      <th>Least Squares</th>\n      <th>Lasso</th>\n      <th>Ridge</th>\n      <th>Elastic Net</th>\n    </tr>\n  </thead>\n  <tbody>\n    <tr>\n      <th>0</th>\n      <td>0.278469</td>\n      <td>1.533217</td>\n      <td>0.361983</td>\n      <td>1.373144</td>\n    </tr>\n  </tbody>\n</table>\n</div>"
     },
     "execution_count": 7,
     "metadata": {},
     "output_type": "execute_result"
    }
   ],
   "source": [
    "errors"
   ],
   "metadata": {
    "collapsed": false
   }
  },
  {
   "cell_type": "markdown",
   "source": [
    "<h1>Corrupted Temperature Data</h1>"
   ],
   "metadata": {
    "collapsed": false
   }
  },
  {
   "cell_type": "code",
   "execution_count": 8,
   "outputs": [
    {
     "data": {
      "text/plain": "<Figure size 432x288 with 1 Axes>",
      "image/png": "[encoded data removed]"
     },
     "metadata": {
      "needs_background": "light"
     },
     "output_type": "display_data"
    }
   ],
   "source": [
    "corr_temp = corrupt(temp, 1)\n",
    "\n",
    "plt.plot(corr_temp)\n",
    "plt.title(\"Corrupted Temperature\")\n",
    "plt.show()"
   ],
   "metadata": {
    "collapsed": false
   }
  },
  {
   "cell_type": "code",
   "execution_count": 9,
   "outputs": [
    {
     "name": "stderr",
     "output_type": "stream",
     "text": [
      "C:\\Users\\chris\\DataspellProjects\\CRASA-NIJC\\venv\\uwu\\lib\\site-packages\\sklearn\\linear_model\\_coordinate_descent.py:648: ConvergenceWarning: Objective did not converge. You might want to increase the number of iterations, check the scale of the features or consider increasing regularisation. Duality gap: 1.190e+03, tolerance: 5.594e-01\n",
      "  model = cd_fast.enet_coordinate_descent(\n",
      "C:\\Users\\chris\\DataspellProjects\\CRASA-NIJC\\venv\\uwu\\lib\\site-packages\\sklearn\\linear_model\\_ridge.py:212: LinAlgWarning: Ill-conditioned matrix (rcond=1.69621e-28): result may not be accurate.\n",
      "  return linalg.solve(A, Xy, sym_pos=True, overwrite_a=True).T\n",
      "C:\\Users\\chris\\DataspellProjects\\CRASA-NIJC\\venv\\uwu\\lib\\site-packages\\sklearn\\linear_model\\_coordinate_descent.py:648: ConvergenceWarning: Objective did not converge. You might want to increase the number of iterations, check the scale of the features or consider increasing regularisation. Duality gap: 1.175e+03, tolerance: 5.594e-01\n",
      "  model = cd_fast.enet_coordinate_descent(\n"
     ]
    }
   ],
   "source": [
    "corr_model, corr_coefficients = generate_models(corr_temp)\n",
    "corr_predictions, corr_errors = generate_predictions(temp, corr_model)"
   ],
   "metadata": {
    "collapsed": false
   }
  },
  {
   "cell_type": "code",
   "execution_count": 10,
   "outputs": [
    {
     "data": {
      "text/plain": "    Least Squares      Lasso      Ridge  Elastic Net\n0       74.910755  78.001905  77.717155    78.200951\n1       76.614595  76.389263  76.101630    76.624140\n2       76.984770  74.125874  73.065833    74.351926\n3       72.481845  71.328790  71.054812    71.513073\n4       68.272869  68.122434  70.332176    68.243184\n5       66.551314  64.637981  69.441375    64.683898\n6       65.631798  61.012383  66.674237    60.981693\n7       62.705776  57.386931  61.275558    57.286217\n8       56.448276  53.905293  53.885689    53.748048\n9       47.978374  50.710904  46.228236    50.515825\n10      40.145106  47.943642  40.330763    47.732643\n11      35.883548  45.735677  37.666084    45.531672\n12      36.610523  44.206415  38.563770    44.030923\n13      41.453400  43.456474  42.109302    43.327149\n14      47.676539  43.560609  46.565240    43.488880\n15      52.135529  44.559583  50.158310    44.548624\n16      53.097383  46.450965  51.921766    46.494341\n17      51.462673  49.178881  52.207247    49.260315\n18      50.461091  52.622814  52.527969    52.717670\n19      53.412622  56.585575  54.608866    56.664793\n20      60.300085  60.780641  58.942698    60.818087\n21      65.832946  64.819124  63.827508    64.803528\n22      64.544611  68.196725  66.833529    68.149660\n23      72.403573  70.281116  71.960247    70.282759",
      "text/html": "<div>\n<style scoped>\n    .dataframe tbody tr th:only-of-type {\n        vertical-align: middle;\n    }\n\n    .dataframe tbody tr th {\n        vertical-align: top;\n    }\n\n    .dataframe thead th {\n        text-align: right;\n    }\n</style>\n<table border=\"1\" class=\"dataframe\">\n  <thead>\n    <tr style=\"text-align: right;\">\n      <th></th>\n      <th>Least Squares</th>\n      <th>Lasso</th>\n      <th>Ridge</th>\n      <th>Elastic Net</th>\n    </tr>\n  </thead>\n  <tbody>\n    <tr>\n      <th>0</th>\n      <td>74.910755</td>\n      <td>78.001905</td>\n      <td>77.717155</td>\n      <td>78.200951</td>\n    </tr>\n    <tr>\n      <th>1</th>\n      <td>76.614595</td>\n      <td>76.389263</td>\n      <td>76.101630</td>\n      <td>76.624140</td>\n    </tr>\n    <tr>\n      <th>2</th>\n      <td>76.984770</td>\n      <td>74.125874</td>\n      <td>73.065833</td>\n      <td>74.351926</td>\n    </tr>\n    <tr>\n      <th>3</th>\n      <td>72.481845</td>\n      <td>71.328790</td>\n      <td>71.054812</td>\n      <td>71.513073</td>\n    </tr>\n    <tr>\n      <th>4</th>\n      <td>68.272869</td>\n      <td>68.122434</td>\n      <td>70.332176</td>\n      <td>68.243184</td>\n    </tr>\n    <tr>\n      <th>5</th>\n      <td>66.551314</td>\n      <td>64.637981</td>\n      <td>69.441375</td>\n      <td>64.683898</td>\n    </tr>\n    <tr>\n      <th>6</th>\n      <td>65.631798</td>\n      <td>61.012383</td>\n      <td>66.674237</td>\n      <td>60.981693</td>\n    </tr>\n    <tr>\n      <th>7</th>\n      <td>62.705776</td>\n      <td>57.386931</td>\n      <td>61.275558</td>\n      <td>57.286217</td>\n    </tr>\n    <tr>\n      <th>8</th>\n      <td>56.448276</td>\n      <td>53.905293</td>\n      <td>53.885689</td>\n      <td>53.748048</td>\n    </tr>\n    <tr>\n      <th>9</th>\n      <td>47.978374</td>\n      <td>50.710904</td>\n      <td>46.228236</td>\n      <td>50.515825</td>\n    </tr>\n    <tr>\n      <th>10</th>\n      <td>40.145106</td>\n      <td>47.943642</td>\n      <td>40.330763</td>\n      <td>47.732643</td>\n    </tr>\n    <tr>\n      <th>11</th>\n      <td>35.883548</td>\n      <td>45.735677</td>\n      <td>37.666084</td>\n      <td>45.531672</td>\n    </tr>\n    <tr>\n      <th>12</th>\n      <td>36.610523</td>\n      <td>44.206415</td>\n      <td>38.563770</td>\n      <td>44.030923</td>\n    </tr>\n    <tr>\n      <th>13</th>\n      <td>41.453400</td>\n      <td>43.456474</td>\n      <td>42.109302</td>\n      <td>43.327149</td>\n    </tr>\n    <tr>\n      <th>14</th>\n      <td>47.676539</td>\n      <td>43.560609</td>\n      <td>46.565240</td>\n      <td>43.488880</td>\n    </tr>\n    <tr>\n      <th>15</th>\n      <td>52.135529</td>\n      <td>44.559583</td>\n      <td>50.158310</td>\n      <td>44.548624</td>\n    </tr>\n    <tr>\n      <th>16</th>\n      <td>53.097383</td>\n      <td>46.450965</td>\n      <td>51.921766</td>\n      <td>46.494341</td>\n    </tr>\n    <tr>\n      <th>17</th>\n      <td>51.462673</td>\n      <td>49.178881</td>\n      <td>52.207247</td>\n      <td>49.260315</td>\n    </tr>\n    <tr>\n      <th>18</th>\n      <td>50.461091</td>\n      <td>52.622814</td>\n      <td>52.527969</td>\n      <td>52.717670</td>\n    </tr>\n    <tr>\n      <th>19</th>\n      <td>53.412622</td>\n      <td>56.585575</td>\n      <td>54.608866</td>\n      <td>56.664793</td>\n    </tr>\n    <tr>\n      <th>20</th>\n      <td>60.300085</td>\n      <td>60.780641</td>\n      <td>58.942698</td>\n      <td>60.818087</td>\n    </tr>\n    <tr>\n      <th>21</th>\n      <td>65.832946</td>\n      <td>64.819124</td>\n      <td>63.827508</td>\n      <td>64.803528</td>\n    </tr>\n    <tr>\n      <th>22</th>\n      <td>64.544611</td>\n      <td>68.196725</td>\n      <td>66.833529</td>\n      <td>68.149660</td>\n    </tr>\n    <tr>\n      <th>23</th>\n      <td>72.403573</td>\n      <td>70.281116</td>\n      <td>71.960247</td>\n      <td>70.282759</td>\n    </tr>\n  </tbody>\n</table>\n</div>"
     },
     "execution_count": 10,
     "metadata": {},
     "output_type": "execute_result"
    }
   ],
   "source": [
    "corr_predictions"
   ],
   "metadata": {
    "collapsed": false
   }
  },
  {
   "cell_type": "code",
   "execution_count": 11,
   "outputs": [
    {
     "data": {
      "text/plain": "    Least Squares         Lasso         Ridge   Elastic Net\n0    0.000000e+00  0.000000e+00  0.000000e+00  0.000000e+00\n1   -1.046522e+02 -4.379828e-01  1.845697e+00 -3.129498e-01\n2    9.370991e+01 -4.311571e-01  1.665666e+00 -4.656818e-01\n3   -4.087690e+01  1.627807e-02 -3.017143e+00  1.834629e-02\n4    9.922385e+00  3.226062e-04  1.260709e+00  3.174285e-04\n5   -1.447325e+00  1.215343e-06 -2.512144e-01  3.911781e-07\n6    1.314603e-01 -1.677202e-07  2.779260e-02 -1.959922e-07\n7   -7.476433e-03 -8.188997e-09 -1.801765e-03 -8.797178e-09\n8    2.585762e-04 -2.302000e-10  6.817973e-05 -2.326542e-10\n9   -4.969548e-06 -2.725021e-12 -1.396025e-06 -2.067724e-12\n10   4.068858e-08  1.686845e-13  1.196106e-08  2.190900e-13",
      "text/html": "<div>\n<style scoped>\n    .dataframe tbody tr th:only-of-type {\n        vertical-align: middle;\n    }\n\n    .dataframe tbody tr th {\n        vertical-align: top;\n    }\n\n    .dataframe thead th {\n        text-align: right;\n    }\n</style>\n<table border=\"1\" class=\"dataframe\">\n  <thead>\n    <tr style=\"text-align: right;\">\n      <th></th>\n      <th>Least Squares</th>\n      <th>Lasso</th>\n      <th>Ridge</th>\n      <th>Elastic Net</th>\n    </tr>\n  </thead>\n  <tbody>\n    <tr>\n      <th>0</th>\n      <td>0.000000e+00</td>\n      <td>0.000000e+00</td>\n      <td>0.000000e+00</td>\n      <td>0.000000e+00</td>\n    </tr>\n    <tr>\n      <th>1</th>\n      <td>-1.046522e+02</td>\n      <td>-4.379828e-01</td>\n      <td>1.845697e+00</td>\n      <td>-3.129498e-01</td>\n    </tr>\n    <tr>\n      <th>2</th>\n      <td>9.370991e+01</td>\n      <td>-4.311571e-01</td>\n      <td>1.665666e+00</td>\n      <td>-4.656818e-01</td>\n    </tr>\n    <tr>\n      <th>3</th>\n      <td>-4.087690e+01</td>\n      <td>1.627807e-02</td>\n      <td>-3.017143e+00</td>\n      <td>1.834629e-02</td>\n    </tr>\n    <tr>\n      <th>4</th>\n      <td>9.922385e+00</td>\n      <td>3.226062e-04</td>\n      <td>1.260709e+00</td>\n      <td>3.174285e-04</td>\n    </tr>\n    <tr>\n      <th>5</th>\n      <td>-1.447325e+00</td>\n      <td>1.215343e-06</td>\n      <td>-2.512144e-01</td>\n      <td>3.911781e-07</td>\n    </tr>\n    <tr>\n      <th>6</th>\n      <td>1.314603e-01</td>\n      <td>-1.677202e-07</td>\n      <td>2.779260e-02</td>\n      <td>-1.959922e-07</td>\n    </tr>\n    <tr>\n      <th>7</th>\n      <td>-7.476433e-03</td>\n      <td>-8.188997e-09</td>\n      <td>-1.801765e-03</td>\n      <td>-8.797178e-09</td>\n    </tr>\n    <tr>\n      <th>8</th>\n      <td>2.585762e-04</td>\n      <td>-2.302000e-10</td>\n      <td>6.817973e-05</td>\n      <td>-2.326542e-10</td>\n    </tr>\n    <tr>\n      <th>9</th>\n      <td>-4.969548e-06</td>\n      <td>-2.725021e-12</td>\n      <td>-1.396025e-06</td>\n      <td>-2.067724e-12</td>\n    </tr>\n    <tr>\n      <th>10</th>\n      <td>4.068858e-08</td>\n      <td>1.686845e-13</td>\n      <td>1.196106e-08</td>\n      <td>2.190900e-13</td>\n    </tr>\n  </tbody>\n</table>\n</div>"
     },
     "execution_count": 11,
     "metadata": {},
     "output_type": "execute_result"
    }
   ],
   "source": [
    "corr_coefficients"
   ],
   "metadata": {
    "collapsed": false
   }
  },
  {
   "cell_type": "code",
   "execution_count": 12,
   "outputs": [
    {
     "data": {
      "text/plain": "   Least Squares      Lasso      Ridge  Elastic Net\n0      35.164441  11.840667  30.858909    12.324209",
      "text/html": "<div>\n<style scoped>\n    .dataframe tbody tr th:only-of-type {\n        vertical-align: middle;\n    }\n\n    .dataframe tbody tr th {\n        vertical-align: top;\n    }\n\n    .dataframe thead th {\n        text-align: right;\n    }\n</style>\n<table border=\"1\" class=\"dataframe\">\n  <thead>\n    <tr style=\"text-align: right;\">\n      <th></th>\n      <th>Least Squares</th>\n      <th>Lasso</th>\n      <th>Ridge</th>\n      <th>Elastic Net</th>\n    </tr>\n  </thead>\n  <tbody>\n    <tr>\n      <th>0</th>\n      <td>35.164441</td>\n      <td>11.840667</td>\n      <td>30.858909</td>\n      <td>12.324209</td>\n    </tr>\n  </tbody>\n</table>\n</div>"
     },
     "execution_count": 12,
     "metadata": {},
     "output_type": "execute_result"
    }
   ],
   "source": [
    "corr_errors"
   ],
   "metadata": {
    "collapsed": false
   }
  },
  {
   "cell_type": "markdown",
   "source": [
    "As we can see, when we have an outlier data point, Lasso and Elastic Net significantly reduce the error due to added bias. Ridge also reduces the error, but not as much as Lasso and elastic net."
   ],
   "metadata": {
    "collapsed": false
   }
  },
  {
   "cell_type": "markdown",
   "source": [
    "<h1>Variance</h1>"
   ],
   "metadata": {
    "collapsed": false
   }
  },
  {
   "cell_type": "code",
   "execution_count": 13,
   "outputs": [
    {
     "name": "stderr",
     "output_type": "stream",
     "text": [
      "C:\\Users\\chris\\DataspellProjects\\CRASA-NIJC\\venv\\uwu\\lib\\site-packages\\sklearn\\linear_model\\_coordinate_descent.py:648: ConvergenceWarning: Objective did not converge. You might want to increase the number of iterations, check the scale of the features or consider increasing regularisation. Duality gap: 2.439e+03, tolerance: 8.760e-01\n",
      "  model = cd_fast.enet_coordinate_descent(\n",
      "C:\\Users\\chris\\DataspellProjects\\CRASA-NIJC\\venv\\uwu\\lib\\site-packages\\sklearn\\linear_model\\_ridge.py:212: LinAlgWarning: Ill-conditioned matrix (rcond=1.69621e-28): result may not be accurate.\n",
      "  return linalg.solve(A, Xy, sym_pos=True, overwrite_a=True).T\n",
      "C:\\Users\\chris\\DataspellProjects\\CRASA-NIJC\\venv\\uwu\\lib\\site-packages\\sklearn\\linear_model\\_coordinate_descent.py:648: ConvergenceWarning: Objective did not converge. You might want to increase the number of iterations, check the scale of the features or consider increasing regularisation. Duality gap: 2.424e+03, tolerance: 8.760e-01\n",
      "  model = cd_fast.enet_coordinate_descent(\n",
      "C:\\Users\\chris\\DataspellProjects\\CRASA-NIJC\\venv\\uwu\\lib\\site-packages\\sklearn\\linear_model\\_coordinate_descent.py:648: ConvergenceWarning: Objective did not converge. You might want to increase the number of iterations, check the scale of the features or consider increasing regularisation. Duality gap: 3.575e+03, tolerance: 1.177e+00\n",
      "  model = cd_fast.enet_coordinate_descent(\n",
      "C:\\Users\\chris\\DataspellProjects\\CRASA-NIJC\\venv\\uwu\\lib\\site-packages\\sklearn\\linear_model\\_ridge.py:212: LinAlgWarning: Ill-conditioned matrix (rcond=1.69621e-28): result may not be accurate.\n",
      "  return linalg.solve(A, Xy, sym_pos=True, overwrite_a=True).T\n",
      "C:\\Users\\chris\\DataspellProjects\\CRASA-NIJC\\venv\\uwu\\lib\\site-packages\\sklearn\\linear_model\\_coordinate_descent.py:648: ConvergenceWarning: Objective did not converge. You might want to increase the number of iterations, check the scale of the features or consider increasing regularisation. Duality gap: 3.579e+03, tolerance: 1.177e+00\n",
      "  model = cd_fast.enet_coordinate_descent(\n",
      "C:\\Users\\chris\\DataspellProjects\\CRASA-NIJC\\venv\\uwu\\lib\\site-packages\\sklearn\\linear_model\\_coordinate_descent.py:648: ConvergenceWarning: Objective did not converge. You might want to increase the number of iterations, check the scale of the features or consider increasing regularisation. Duality gap: 3.161e+03, tolerance: 8.775e-01\n",
      "  model = cd_fast.enet_coordinate_descent(\n",
      "C:\\Users\\chris\\DataspellProjects\\CRASA-NIJC\\venv\\uwu\\lib\\site-packages\\sklearn\\linear_model\\_ridge.py:212: LinAlgWarning: Ill-conditioned matrix (rcond=1.69621e-28): result may not be accurate.\n",
      "  return linalg.solve(A, Xy, sym_pos=True, overwrite_a=True).T\n",
      "C:\\Users\\chris\\DataspellProjects\\CRASA-NIJC\\venv\\uwu\\lib\\site-packages\\sklearn\\linear_model\\_coordinate_descent.py:648: ConvergenceWarning: Objective did not converge. You might want to increase the number of iterations, check the scale of the features or consider increasing regularisation. Duality gap: 3.142e+03, tolerance: 8.775e-01\n",
      "  model = cd_fast.enet_coordinate_descent(\n",
      "C:\\Users\\chris\\DataspellProjects\\CRASA-NIJC\\venv\\uwu\\lib\\site-packages\\sklearn\\linear_model\\_coordinate_descent.py:648: ConvergenceWarning: Objective did not converge. You might want to increase the number of iterations, check the scale of the features or consider increasing regularisation. Duality gap: 4.621e+03, tolerance: 1.146e+00\n",
      "  model = cd_fast.enet_coordinate_descent(\n",
      "C:\\Users\\chris\\DataspellProjects\\CRASA-NIJC\\venv\\uwu\\lib\\site-packages\\sklearn\\linear_model\\_ridge.py:212: LinAlgWarning: Ill-conditioned matrix (rcond=1.69621e-28): result may not be accurate.\n",
      "  return linalg.solve(A, Xy, sym_pos=True, overwrite_a=True).T\n",
      "C:\\Users\\chris\\DataspellProjects\\CRASA-NIJC\\venv\\uwu\\lib\\site-packages\\sklearn\\linear_model\\_coordinate_descent.py:648: ConvergenceWarning: Objective did not converge. You might want to increase the number of iterations, check the scale of the features or consider increasing regularisation. Duality gap: 4.670e+03, tolerance: 1.146e+00\n",
      "  model = cd_fast.enet_coordinate_descent(\n",
      "C:\\Users\\chris\\DataspellProjects\\CRASA-NIJC\\venv\\uwu\\lib\\site-packages\\sklearn\\linear_model\\_coordinate_descent.py:648: ConvergenceWarning: Objective did not converge. You might want to increase the number of iterations, check the scale of the features or consider increasing regularisation. Duality gap: 3.593e+03, tolerance: 1.176e+00\n",
      "  model = cd_fast.enet_coordinate_descent(\n",
      "C:\\Users\\chris\\DataspellProjects\\CRASA-NIJC\\venv\\uwu\\lib\\site-packages\\sklearn\\linear_model\\_ridge.py:212: LinAlgWarning: Ill-conditioned matrix (rcond=1.69621e-28): result may not be accurate.\n",
      "  return linalg.solve(A, Xy, sym_pos=True, overwrite_a=True).T\n",
      "C:\\Users\\chris\\DataspellProjects\\CRASA-NIJC\\venv\\uwu\\lib\\site-packages\\sklearn\\linear_model\\_coordinate_descent.py:648: ConvergenceWarning: Objective did not converge. You might want to increase the number of iterations, check the scale of the features or consider increasing regularisation. Duality gap: 3.586e+03, tolerance: 1.176e+00\n",
      "  model = cd_fast.enet_coordinate_descent(\n",
      "C:\\Users\\chris\\DataspellProjects\\CRASA-NIJC\\venv\\uwu\\lib\\site-packages\\sklearn\\linear_model\\_coordinate_descent.py:648: ConvergenceWarning: Objective did not converge. You might want to increase the number of iterations, check the scale of the features or consider increasing regularisation. Duality gap: 2.580e+03, tolerance: 1.181e+00\n",
      "  model = cd_fast.enet_coordinate_descent(\n",
      "C:\\Users\\chris\\DataspellProjects\\CRASA-NIJC\\venv\\uwu\\lib\\site-packages\\sklearn\\linear_model\\_ridge.py:212: LinAlgWarning: Ill-conditioned matrix (rcond=1.69621e-28): result may not be accurate.\n",
      "  return linalg.solve(A, Xy, sym_pos=True, overwrite_a=True).T\n",
      "C:\\Users\\chris\\DataspellProjects\\CRASA-NIJC\\venv\\uwu\\lib\\site-packages\\sklearn\\linear_model\\_coordinate_descent.py:648: ConvergenceWarning: Objective did not converge. You might want to increase the number of iterations, check the scale of the features or consider increasing regularisation. Duality gap: 2.509e+03, tolerance: 1.181e+00\n",
      "  model = cd_fast.enet_coordinate_descent(\n",
      "C:\\Users\\chris\\DataspellProjects\\CRASA-NIJC\\venv\\uwu\\lib\\site-packages\\sklearn\\linear_model\\_coordinate_descent.py:648: ConvergenceWarning: Objective did not converge. You might want to increase the number of iterations, check the scale of the features or consider increasing regularisation. Duality gap: 4.685e+03, tolerance: 1.133e+00\n",
      "  model = cd_fast.enet_coordinate_descent(\n",
      "C:\\Users\\chris\\DataspellProjects\\CRASA-NIJC\\venv\\uwu\\lib\\site-packages\\sklearn\\linear_model\\_ridge.py:212: LinAlgWarning: Ill-conditioned matrix (rcond=1.69621e-28): result may not be accurate.\n",
      "  return linalg.solve(A, Xy, sym_pos=True, overwrite_a=True).T\n",
      "C:\\Users\\chris\\DataspellProjects\\CRASA-NIJC\\venv\\uwu\\lib\\site-packages\\sklearn\\linear_model\\_coordinate_descent.py:648: ConvergenceWarning: Objective did not converge. You might want to increase the number of iterations, check the scale of the features or consider increasing regularisation. Duality gap: 4.859e+03, tolerance: 1.133e+00\n",
      "  model = cd_fast.enet_coordinate_descent(\n",
      "C:\\Users\\chris\\DataspellProjects\\CRASA-NIJC\\venv\\uwu\\lib\\site-packages\\sklearn\\linear_model\\_coordinate_descent.py:648: ConvergenceWarning: Objective did not converge. You might want to increase the number of iterations, check the scale of the features or consider increasing regularisation. Duality gap: 3.015e+03, tolerance: 1.178e+00\n",
      "  model = cd_fast.enet_coordinate_descent(\n",
      "C:\\Users\\chris\\DataspellProjects\\CRASA-NIJC\\venv\\uwu\\lib\\site-packages\\sklearn\\linear_model\\_ridge.py:212: LinAlgWarning: Ill-conditioned matrix (rcond=1.69621e-28): result may not be accurate.\n",
      "  return linalg.solve(A, Xy, sym_pos=True, overwrite_a=True).T\n",
      "C:\\Users\\chris\\DataspellProjects\\CRASA-NIJC\\venv\\uwu\\lib\\site-packages\\sklearn\\linear_model\\_coordinate_descent.py:648: ConvergenceWarning: Objective did not converge. You might want to increase the number of iterations, check the scale of the features or consider increasing regularisation. Duality gap: 3.014e+03, tolerance: 1.178e+00\n",
      "  model = cd_fast.enet_coordinate_descent(\n",
      "C:\\Users\\chris\\DataspellProjects\\CRASA-NIJC\\venv\\uwu\\lib\\site-packages\\sklearn\\linear_model\\_coordinate_descent.py:648: ConvergenceWarning: Objective did not converge. You might want to increase the number of iterations, check the scale of the features or consider increasing regularisation. Duality gap: 4.729e+03, tolerance: 1.068e+00\n",
      "  model = cd_fast.enet_coordinate_descent(\n",
      "C:\\Users\\chris\\DataspellProjects\\CRASA-NIJC\\venv\\uwu\\lib\\site-packages\\sklearn\\linear_model\\_ridge.py:212: LinAlgWarning: Ill-conditioned matrix (rcond=1.69621e-28): result may not be accurate.\n",
      "  return linalg.solve(A, Xy, sym_pos=True, overwrite_a=True).T\n",
      "C:\\Users\\chris\\DataspellProjects\\CRASA-NIJC\\venv\\uwu\\lib\\site-packages\\sklearn\\linear_model\\_coordinate_descent.py:648: ConvergenceWarning: Objective did not converge. You might want to increase the number of iterations, check the scale of the features or consider increasing regularisation. Duality gap: 4.731e+03, tolerance: 1.068e+00\n",
      "  model = cd_fast.enet_coordinate_descent(\n",
      "C:\\Users\\chris\\DataspellProjects\\CRASA-NIJC\\venv\\uwu\\lib\\site-packages\\sklearn\\linear_model\\_coordinate_descent.py:648: ConvergenceWarning: Objective did not converge. You might want to increase the number of iterations, check the scale of the features or consider increasing regularisation. Duality gap: 3.910e+03, tolerance: 1.176e+00\n",
      "  model = cd_fast.enet_coordinate_descent(\n",
      "C:\\Users\\chris\\DataspellProjects\\CRASA-NIJC\\venv\\uwu\\lib\\site-packages\\sklearn\\linear_model\\_ridge.py:212: LinAlgWarning: Ill-conditioned matrix (rcond=1.69621e-28): result may not be accurate.\n",
      "  return linalg.solve(A, Xy, sym_pos=True, overwrite_a=True).T\n",
      "C:\\Users\\chris\\DataspellProjects\\CRASA-NIJC\\venv\\uwu\\lib\\site-packages\\sklearn\\linear_model\\_coordinate_descent.py:648: ConvergenceWarning: Objective did not converge. You might want to increase the number of iterations, check the scale of the features or consider increasing regularisation. Duality gap: 3.873e+03, tolerance: 1.176e+00\n",
      "  model = cd_fast.enet_coordinate_descent(\n"
     ]
    }
   ],
   "source": [
    "linear_coef = []\n",
    "lasso_coef = []\n",
    "ridge_coef = []\n",
    "elastic_coef = []\n",
    "\n",
    "for r in range(11):\n",
    "    linear_coef.append([])\n",
    "    lasso_coef.append([])\n",
    "    ridge_coef.append([])\n",
    "    elastic_coef.append([])\n",
    "\n",
    "for attempt in range(10):\n",
    "    corr_temp = corrupt(temp, 3)\n",
    "    corr_coefficients = generate_models(corr_temp)[1]\n",
    "\n",
    "    for r in range(11):\n",
    "        linear_coef[r].append(corr_coefficients[\"Least Squares\"][r])\n",
    "        lasso_coef[r].append(corr_coefficients[\"Lasso\"][r])\n",
    "        ridge_coef[r].append(corr_coefficients[\"Ridge\"][r])\n",
    "        elastic_coef[r].append(corr_coefficients[\"Elastic Net\"][r])"
   ],
   "metadata": {
    "collapsed": false
   }
  },
  {
   "cell_type": "markdown",
   "source": [
    "The variance for the loadings of least squares regression:"
   ],
   "metadata": {
    "collapsed": false
   }
  },
  {
   "cell_type": "code",
   "execution_count": 14,
   "outputs": [
    {
     "name": "stdout",
     "output_type": "stream",
     "text": [
      "Variance for Coefficient #0:\t\t0.0\n",
      "Variance for Coefficient #1:\t\t126996.57961786394\n",
      "Variance for Coefficient #2:\t\t69049.73781488273\n",
      "Variance for Coefficient #3:\t\t10460.458735278657\n",
      "Variance for Coefficient #4:\t\t537.0523998303848\n",
      "Variance for Coefficient #5:\t\t10.347180506335496\n",
      "Variance for Coefficient #6:\t\t0.07911149396995533\n",
      "Variance for Coefficient #7:\t\t0.00024134404037975016\n",
      "Variance for Coefficient #8:\t\t2.7615207293520923e-07\n",
      "Variance for Coefficient #9:\t\t9.868193045062872e-11\n",
      "Variance for Coefficient #10:\t\t6.457714926914338e-15\n"
     ]
    }
   ],
   "source": [
    "for r in range(11):\n",
    "    print(\"Variance for Coefficient #\" + str(r) + \":\\t\\t\" + str(np.var(linear_coef[r])))"
   ],
   "metadata": {
    "collapsed": false
   }
  },
  {
   "cell_type": "markdown",
   "source": [
    "The variance for the loadings of lasso regression:"
   ],
   "metadata": {
    "collapsed": false
   }
  },
  {
   "cell_type": "code",
   "execution_count": 15,
   "outputs": [
    {
     "name": "stdout",
     "output_type": "stream",
     "text": [
      "Variance for Coefficient #0:\t\t0.0\n",
      "Variance for Coefficient #1:\t\t14.852918158155898\n",
      "Variance for Coefficient #2:\t\t0.13909376451979888\n",
      "Variance for Coefficient #3:\t\t0.0001045189798617835\n",
      "Variance for Coefficient #4:\t\t1.0708410367729217e-07\n",
      "Variance for Coefficient #5:\t\t9.700940235573284e-11\n",
      "Variance for Coefficient #6:\t\t1.1631881581315383e-13\n",
      "Variance for Coefficient #7:\t\t1.0482006355383006e-16\n",
      "Variance for Coefficient #8:\t\t7.906452215036313e-20\n",
      "Variance for Coefficient #9:\t\t2.3134949950447504e-22\n",
      "Variance for Coefficient #10:\t\t9.908880669271557e-25\n"
     ]
    }
   ],
   "source": [
    "for r in range(11):\n",
    "    print(\"Variance for Coefficient #\" + str(r) + \":\\t\\t\" + str(np.var(lasso_coef[r])))"
   ],
   "metadata": {
    "collapsed": false
   }
  },
  {
   "cell_type": "markdown",
   "source": [
    "The variance for the loadings of ridge regression:"
   ],
   "metadata": {
    "collapsed": false
   }
  },
  {
   "cell_type": "code",
   "execution_count": 16,
   "outputs": [
    {
     "name": "stdout",
     "output_type": "stream",
     "text": [
      "Variance for Coefficient #0:\t\t0.0\n",
      "Variance for Coefficient #1:\t\t32.08726550348078\n",
      "Variance for Coefficient #2:\t\t34.60077911015706\n",
      "Variance for Coefficient #3:\t\t38.646765035622835\n",
      "Variance for Coefficient #4:\t\t5.023258540523044\n",
      "Variance for Coefficient #5:\t\t0.17786187488469005\n",
      "Variance for Coefficient #6:\t\t0.0021211297503600985\n",
      "Variance for Coefficient #7:\t\t9.098521040324117e-06\n",
      "Variance for Coefficient #8:\t\t1.3640333803678618e-08\n",
      "Variance for Coefficient #9:\t\t6.075942515968052e-12\n",
      "Variance for Coefficient #10:\t\t4.779776883355537e-16\n"
     ]
    }
   ],
   "source": [
    "for r in range(11):\n",
    "    print(\"Variance for Coefficient #\" + str(r) + \":\\t\\t\" + str(np.var(ridge_coef[r])))"
   ],
   "metadata": {
    "collapsed": false
   }
  },
  {
   "cell_type": "markdown",
   "source": [
    "The variance for the loadings of elastic net regression:"
   ],
   "metadata": {
    "collapsed": false
   }
  },
  {
   "cell_type": "code",
   "execution_count": 17,
   "outputs": [
    {
     "name": "stdout",
     "output_type": "stream",
     "text": [
      "Variance for Coefficient #0:\t\t0.0\n",
      "Variance for Coefficient #1:\t\t4.475954541681577\n",
      "Variance for Coefficient #2:\t\t0.07104699758882314\n",
      "Variance for Coefficient #3:\t\t0.00014910901846361098\n",
      "Variance for Coefficient #4:\t\t8.466159121853056e-08\n",
      "Variance for Coefficient #5:\t\t9.840099617349756e-11\n",
      "Variance for Coefficient #6:\t\t1.2943271952282407e-13\n",
      "Variance for Coefficient #7:\t\t1.1138724927896585e-16\n",
      "Variance for Coefficient #8:\t\t7.16506646703581e-20\n",
      "Variance for Coefficient #9:\t\t2.173646483504018e-22\n",
      "Variance for Coefficient #10:\t\t9.972043377176768e-25\n"
     ]
    }
   ],
   "source": [
    "for r in range(11):\n",
    "    print(\"Variance for Coefficient #\" + str(r) + \":\\t\\t\" + str(np.var(elastic_coef[r])))"
   ],
   "metadata": {
    "collapsed": false
   }
  },
  {
   "cell_type": "markdown",
   "source": [
    "So as we can see, normal least squares has a huge amount of variance, but since the models with regularlization has the added bias to be more robust toward outliers, there is less variance."
   ],
   "metadata": {
    "collapsed": false
   }
  },
  {
   "cell_type": "markdown",
   "source": [],
   "metadata": {
    "collapsed": false
   }
  }
 ],
 "metadata": {
  "kernelspec": {
   "display_name": "Python 3",
   "language": "python",
   "name": "python3"
  },
  "language_info": {
   "codemirror_mode": {
    "name": "ipython",
    "version": 2
   },
   "file_extension": ".py",
   "mimetype": "text/x-python",
   "name": "python",
   "nbconvert_exporter": "python",
   "pygments_lexer": "ipython2",
   "version": "2.7.6"
  }
 },
 "nbformat": 4,
 "nbformat_minor": 0
}
