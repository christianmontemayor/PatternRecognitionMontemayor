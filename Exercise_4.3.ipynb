{
 "cells": [
  {
   "cell_type": "code",
   "execution_count": 52,
   "metadata": {
    "collapsed": true
   },
   "outputs": [],
   "source": [
    "import numpy as np\n",
    "import matplotlib.pyplot as plt\n",
    "import pandas as pd"
   ]
  },
  {
   "cell_type": "code",
   "execution_count": 53,
   "outputs": [],
   "source": [
    "from sklearn import linear_model\n",
    "from sklearn.metrics import mean_squared_error as mse\n",
    "\n",
    "mapping = {0: \"Least Squares\", 1: \"Lasso\", 2:\"Ridge\", 3:\"Elastic Net\"}\n",
    "\n",
    "index = np.linspace(1, 24, 24)\n",
    "X = np.zeros((24, 11))\n",
    "\n",
    "for i in range(11):\n",
    "    X[:, i] = np.power(index, i)\n",
    "\n",
    "def run_models(y):\n",
    "    least_squares = linear_model.LinearRegression().fit(X, y)\n",
    "    lasso = linear_model.Lasso().fit(X, y)\n",
    "    ridge = linear_model.Ridge().fit(X, y)\n",
    "    elastic = linear_model.ElasticNet().fit(X, y)\n",
    "\n",
    "    least_squares_pred = least_squares.predict(X)\n",
    "    lasso_pred = lasso.predict(X)\n",
    "    ridge_pred = ridge.predict(X)\n",
    "    elastic_pred = elastic.predict(X)\n",
    "\n",
    "    return pd.DataFrame(data=[least_squares_pred, lasso_pred, ridge_pred, elastic_pred]).T.rename(columns=mapping), \\\n",
    "           pd.DataFrame(data=[least_squares.coef_, lasso.coef_, ridge.coef_, elastic.coef_]).T.rename(columns=mapping), \\\n",
    "           pd.DataFrame(data=[mse(y, least_squares_pred), mse(y, lasso_pred), mse(y, ridge_pred), mse(y, elastic_pred)]).T.rename(columns=mapping)"
   ],
   "metadata": {
    "collapsed": false
   }
  },
  {
   "cell_type": "markdown",
   "source": [
    "<h1>Temperature Data</h1>"
   ],
   "metadata": {
    "collapsed": false
   }
  },
  {
   "cell_type": "code",
   "execution_count": 54,
   "outputs": [
    {
     "data": {
      "text/plain": "[<matplotlib.lines.Line2D at 0x199d52176d0>]"
     },
     "execution_count": 54,
     "metadata": {},
     "output_type": "execute_result"
    },
    {
     "data": {
      "text/plain": "<Figure size 432x288 with 1 Axes>",
      "image/png": "[encoded data removed]"
     },
     "metadata": {
      "needs_background": "light"
     },
     "output_type": "display_data"
    }
   ],
   "source": [
    "temp = np.array([75,77,76,73,69,68,63,59,57,55,54,52,50,50,49,49,49,50,54,56,59,63,67,72])\n",
    "\n",
    "plt.plot(temp)"
   ],
   "metadata": {
    "collapsed": false
   }
  },
  {
   "cell_type": "code",
   "execution_count": 55,
   "outputs": [
    {
     "name": "stderr",
     "output_type": "stream",
     "text": [
      "C:\\Users\\chris\\DataspellProjects\\CRASA-NIJC\\venv\\uwu\\lib\\site-packages\\sklearn\\linear_model\\_coordinate_descent.py:648: ConvergenceWarning: Objective did not converge. You might want to increase the number of iterations, check the scale of the features or consider increasing regularisation. Duality gap: 2.606e+01, tolerance: 2.145e-01\n",
      "  model = cd_fast.enet_coordinate_descent(\n",
      "C:\\Users\\chris\\DataspellProjects\\CRASA-NIJC\\venv\\uwu\\lib\\site-packages\\sklearn\\linear_model\\_ridge.py:212: LinAlgWarning: Ill-conditioned matrix (rcond=1.69621e-28): result may not be accurate.\n",
      "  return linalg.solve(A, Xy, sym_pos=True, overwrite_a=True).T\n",
      "C:\\Users\\chris\\DataspellProjects\\CRASA-NIJC\\venv\\uwu\\lib\\site-packages\\sklearn\\linear_model\\_coordinate_descent.py:648: ConvergenceWarning: Objective did not converge. You might want to increase the number of iterations, check the scale of the features or consider increasing regularisation. Duality gap: 2.325e+01, tolerance: 2.145e-01\n",
      "  model = cd_fast.enet_coordinate_descent(\n"
     ]
    }
   ],
   "source": [
    "predictions, coefficients, errors = run_models(temp)"
   ],
   "metadata": {
    "collapsed": false
   }
  },
  {
   "cell_type": "code",
   "execution_count": 56,
   "outputs": [
    {
     "data": {
      "text/plain": "    Least Squares      Lasso      Ridge  Elastic Net\n0       74.980834  75.672763  75.729830    76.059864\n1       77.190889  74.813551  76.136693    75.043279\n2       75.578633  73.458753  75.492902    73.556431\n3       73.034617  71.676952  73.464311    71.668479\n4       70.015444  69.541680  70.293163    69.453032\n5       66.588873  67.131536  66.550338    66.988210\n6       63.017635  64.530220  62.845116    64.356604\n7       59.700666  61.826434  59.614290    61.645120\n8       56.953602  59.113603  57.033923    58.944634\n9       54.865040  56.489334  55.044973    56.349423\n10      53.298778  54.054541  53.454473    53.956267\n11      52.012459  51.912100  52.062689    51.863148\n12      50.817305  50.164902  50.769834    50.167405\n13      49.699488  48.913137  49.629173    48.963217\n14      48.848537  48.250578  48.832910    48.338227\n15      48.579724  48.259631  48.638746    48.369098\n16      49.182897  49.004837  49.264643    49.115763\n17      50.767459  50.524471  50.792801    50.614068\n18      53.189484  52.819828  53.127276    52.866477\n19      56.129905  55.841710  56.038842    55.830451\n20      59.329812  59.473559  59.301601    59.404051\n21      62.867614  63.510597  62.874404    63.408251\n22      67.170794  67.634250  67.002292    67.565392\n23      72.179510  71.381033  72.004777    71.473110",
      "text/html": "<div>\n<style scoped>\n    .dataframe tbody tr th:only-of-type {\n        vertical-align: middle;\n    }\n\n    .dataframe tbody tr th {\n        vertical-align: top;\n    }\n\n    .dataframe thead th {\n        text-align: right;\n    }\n</style>\n<table border=\"1\" class=\"dataframe\">\n  <thead>\n    <tr style=\"text-align: right;\">\n      <th></th>\n      <th>Least Squares</th>\n      <th>Lasso</th>\n      <th>Ridge</th>\n      <th>Elastic Net</th>\n    </tr>\n  </thead>\n  <tbody>\n    <tr>\n      <th>0</th>\n      <td>74.980834</td>\n      <td>75.672763</td>\n      <td>75.729830</td>\n      <td>76.059864</td>\n    </tr>\n    <tr>\n      <th>1</th>\n      <td>77.190889</td>\n      <td>74.813551</td>\n      <td>76.136693</td>\n      <td>75.043279</td>\n    </tr>\n    <tr>\n      <th>2</th>\n      <td>75.578633</td>\n      <td>73.458753</td>\n      <td>75.492902</td>\n      <td>73.556431</td>\n    </tr>\n    <tr>\n      <th>3</th>\n      <td>73.034617</td>\n      <td>71.676952</td>\n      <td>73.464311</td>\n      <td>71.668479</td>\n    </tr>\n    <tr>\n      <th>4</th>\n      <td>70.015444</td>\n      <td>69.541680</td>\n      <td>70.293163</td>\n      <td>69.453032</td>\n    </tr>\n    <tr>\n      <th>5</th>\n      <td>66.588873</td>\n      <td>67.131536</td>\n      <td>66.550338</td>\n      <td>66.988210</td>\n    </tr>\n    <tr>\n      <th>6</th>\n      <td>63.017635</td>\n      <td>64.530220</td>\n      <td>62.845116</td>\n      <td>64.356604</td>\n    </tr>\n    <tr>\n      <th>7</th>\n      <td>59.700666</td>\n      <td>61.826434</td>\n      <td>59.614290</td>\n      <td>61.645120</td>\n    </tr>\n    <tr>\n      <th>8</th>\n      <td>56.953602</td>\n      <td>59.113603</td>\n      <td>57.033923</td>\n      <td>58.944634</td>\n    </tr>\n    <tr>\n      <th>9</th>\n      <td>54.865040</td>\n      <td>56.489334</td>\n      <td>55.044973</td>\n      <td>56.349423</td>\n    </tr>\n    <tr>\n      <th>10</th>\n      <td>53.298778</td>\n      <td>54.054541</td>\n      <td>53.454473</td>\n      <td>53.956267</td>\n    </tr>\n    <tr>\n      <th>11</th>\n      <td>52.012459</td>\n      <td>51.912100</td>\n      <td>52.062689</td>\n      <td>51.863148</td>\n    </tr>\n    <tr>\n      <th>12</th>\n      <td>50.817305</td>\n      <td>50.164902</td>\n      <td>50.769834</td>\n      <td>50.167405</td>\n    </tr>\n    <tr>\n      <th>13</th>\n      <td>49.699488</td>\n      <td>48.913137</td>\n      <td>49.629173</td>\n      <td>48.963217</td>\n    </tr>\n    <tr>\n      <th>14</th>\n      <td>48.848537</td>\n      <td>48.250578</td>\n      <td>48.832910</td>\n      <td>48.338227</td>\n    </tr>\n    <tr>\n      <th>15</th>\n      <td>48.579724</td>\n      <td>48.259631</td>\n      <td>48.638746</td>\n      <td>48.369098</td>\n    </tr>\n    <tr>\n      <th>16</th>\n      <td>49.182897</td>\n      <td>49.004837</td>\n      <td>49.264643</td>\n      <td>49.115763</td>\n    </tr>\n    <tr>\n      <th>17</th>\n      <td>50.767459</td>\n      <td>50.524471</td>\n      <td>50.792801</td>\n      <td>50.614068</td>\n    </tr>\n    <tr>\n      <th>18</th>\n      <td>53.189484</td>\n      <td>52.819828</td>\n      <td>53.127276</td>\n      <td>52.866477</td>\n    </tr>\n    <tr>\n      <th>19</th>\n      <td>56.129905</td>\n      <td>55.841710</td>\n      <td>56.038842</td>\n      <td>55.830451</td>\n    </tr>\n    <tr>\n      <th>20</th>\n      <td>59.329812</td>\n      <td>59.473559</td>\n      <td>59.301601</td>\n      <td>59.404051</td>\n    </tr>\n    <tr>\n      <th>21</th>\n      <td>62.867614</td>\n      <td>63.510597</td>\n      <td>62.874404</td>\n      <td>63.408251</td>\n    </tr>\n    <tr>\n      <th>22</th>\n      <td>67.170794</td>\n      <td>67.634250</td>\n      <td>67.002292</td>\n      <td>67.565392</td>\n    </tr>\n    <tr>\n      <th>23</th>\n      <td>72.179510</td>\n      <td>71.381033</td>\n      <td>72.004777</td>\n      <td>71.473110</td>\n    </tr>\n  </tbody>\n</table>\n</div>"
     },
     "execution_count": 56,
     "metadata": {},
     "output_type": "execute_result"
    }
   ],
   "source": [
    "predictions"
   ],
   "metadata": {
    "collapsed": false
   }
  },
  {
   "cell_type": "code",
   "execution_count": 57,
   "outputs": [
    {
     "data": {
      "text/plain": "    Least Squares         Lasso         Ridge   Elastic Net\n0    0.000000e+00  0.000000e+00  0.000000e+00  0.000000e+00\n1    2.989706e+01 -0.000000e+00  3.241997e-01 -1.934075e-01\n2   -1.894137e+01 -3.095035e-01  3.704667e-01 -2.980290e-01\n3    6.309327e+00  9.504506e-03 -7.091638e-02  9.765975e-03\n4   -1.297824e+00  1.803915e-04 -6.997972e-02  1.665940e-04\n5    1.689235e-01  1.991129e-06  2.143311e-02  1.608444e-06\n6   -1.406527e-02 -1.054194e-08 -2.667418e-03 -1.849481e-08\n7    7.450447e-04 -1.762444e-09  1.782699e-04 -1.822955e-09\n8   -2.424469e-05 -8.244823e-11 -6.718712e-06 -7.691089e-11\n9    4.414467e-07 -3.033693e-12  1.348149e-07 -2.580946e-12\n10  -3.441269e-09 -9.816566e-14 -1.122326e-09 -7.359630e-14",
      "text/html": "<div>\n<style scoped>\n    .dataframe tbody tr th:only-of-type {\n        vertical-align: middle;\n    }\n\n    .dataframe tbody tr th {\n        vertical-align: top;\n    }\n\n    .dataframe thead th {\n        text-align: right;\n    }\n</style>\n<table border=\"1\" class=\"dataframe\">\n  <thead>\n    <tr style=\"text-align: right;\">\n      <th></th>\n      <th>Least Squares</th>\n      <th>Lasso</th>\n      <th>Ridge</th>\n      <th>Elastic Net</th>\n    </tr>\n  </thead>\n  <tbody>\n    <tr>\n      <th>0</th>\n      <td>0.000000e+00</td>\n      <td>0.000000e+00</td>\n      <td>0.000000e+00</td>\n      <td>0.000000e+00</td>\n    </tr>\n    <tr>\n      <th>1</th>\n      <td>2.989706e+01</td>\n      <td>-0.000000e+00</td>\n      <td>3.241997e-01</td>\n      <td>-1.934075e-01</td>\n    </tr>\n    <tr>\n      <th>2</th>\n      <td>-1.894137e+01</td>\n      <td>-3.095035e-01</td>\n      <td>3.704667e-01</td>\n      <td>-2.980290e-01</td>\n    </tr>\n    <tr>\n      <th>3</th>\n      <td>6.309327e+00</td>\n      <td>9.504506e-03</td>\n      <td>-7.091638e-02</td>\n      <td>9.765975e-03</td>\n    </tr>\n    <tr>\n      <th>4</th>\n      <td>-1.297824e+00</td>\n      <td>1.803915e-04</td>\n      <td>-6.997972e-02</td>\n      <td>1.665940e-04</td>\n    </tr>\n    <tr>\n      <th>5</th>\n      <td>1.689235e-01</td>\n      <td>1.991129e-06</td>\n      <td>2.143311e-02</td>\n      <td>1.608444e-06</td>\n    </tr>\n    <tr>\n      <th>6</th>\n      <td>-1.406527e-02</td>\n      <td>-1.054194e-08</td>\n      <td>-2.667418e-03</td>\n      <td>-1.849481e-08</td>\n    </tr>\n    <tr>\n      <th>7</th>\n      <td>7.450447e-04</td>\n      <td>-1.762444e-09</td>\n      <td>1.782699e-04</td>\n      <td>-1.822955e-09</td>\n    </tr>\n    <tr>\n      <th>8</th>\n      <td>-2.424469e-05</td>\n      <td>-8.244823e-11</td>\n      <td>-6.718712e-06</td>\n      <td>-7.691089e-11</td>\n    </tr>\n    <tr>\n      <th>9</th>\n      <td>4.414467e-07</td>\n      <td>-3.033693e-12</td>\n      <td>1.348149e-07</td>\n      <td>-2.580946e-12</td>\n    </tr>\n    <tr>\n      <th>10</th>\n      <td>-3.441269e-09</td>\n      <td>-9.816566e-14</td>\n      <td>-1.122326e-09</td>\n      <td>-7.359630e-14</td>\n    </tr>\n  </tbody>\n</table>\n</div>"
     },
     "execution_count": 57,
     "metadata": {},
     "output_type": "execute_result"
    }
   ],
   "source": [
    "coefficients"
   ],
   "metadata": {
    "collapsed": false
   }
  },
  {
   "cell_type": "code",
   "execution_count": 58,
   "outputs": [
    {
     "data": {
      "text/plain": "   Least Squares     Lasso     Ridge  Elastic Net\n0       0.278469  1.533217  0.361983     1.373144",
      "text/html": "<div>\n<style scoped>\n    .dataframe tbody tr th:only-of-type {\n        vertical-align: middle;\n    }\n\n    .dataframe tbody tr th {\n        vertical-align: top;\n    }\n\n    .dataframe thead th {\n        text-align: right;\n    }\n</style>\n<table border=\"1\" class=\"dataframe\">\n  <thead>\n    <tr style=\"text-align: right;\">\n      <th></th>\n      <th>Least Squares</th>\n      <th>Lasso</th>\n      <th>Ridge</th>\n      <th>Elastic Net</th>\n    </tr>\n  </thead>\n  <tbody>\n    <tr>\n      <th>0</th>\n      <td>0.278469</td>\n      <td>1.533217</td>\n      <td>0.361983</td>\n      <td>1.373144</td>\n    </tr>\n  </tbody>\n</table>\n</div>"
     },
     "execution_count": 58,
     "metadata": {},
     "output_type": "execute_result"
    }
   ],
   "source": [
    "errors"
   ],
   "metadata": {
    "collapsed": false
   }
  },
  {
   "cell_type": "markdown",
   "source": [
    "<h1>Corrupted Temperature Data</h1>"
   ],
   "metadata": {
    "collapsed": false
   }
  },
  {
   "cell_type": "code",
   "execution_count": 59,
   "outputs": [
    {
     "data": {
      "text/plain": "[<matplotlib.lines.Line2D at 0x199d4d5d870>]"
     },
     "execution_count": 59,
     "metadata": {},
     "output_type": "execute_result"
    },
    {
     "data": {
      "text/plain": "<Figure size 432x288 with 1 Axes>",
      "image/png": "[encoded data removed]"
     },
     "metadata": {
      "needs_background": "light"
     },
     "output_type": "display_data"
    }
   ],
   "source": [
    "corr_temp = temp.copy()\n",
    "corr_temp[2] = 0\n",
    "\n",
    "plt.plot(corr_temp)"
   ],
   "metadata": {
    "collapsed": false
   }
  },
  {
   "cell_type": "code",
   "execution_count": 60,
   "outputs": [
    {
     "name": "stderr",
     "output_type": "stream",
     "text": [
      "C:\\Users\\chris\\DataspellProjects\\CRASA-NIJC\\venv\\uwu\\lib\\site-packages\\sklearn\\linear_model\\_coordinate_descent.py:648: ConvergenceWarning: Objective did not converge. You might want to increase the number of iterations, check the scale of the features or consider increasing regularisation. Duality gap: 2.246e+03, tolerance: 5.286e-01\n",
      "  model = cd_fast.enet_coordinate_descent(\n",
      "C:\\Users\\chris\\DataspellProjects\\CRASA-NIJC\\venv\\uwu\\lib\\site-packages\\sklearn\\linear_model\\_ridge.py:212: LinAlgWarning: Ill-conditioned matrix (rcond=1.69621e-28): result may not be accurate.\n",
      "  return linalg.solve(A, Xy, sym_pos=True, overwrite_a=True).T\n",
      "C:\\Users\\chris\\DataspellProjects\\CRASA-NIJC\\venv\\uwu\\lib\\site-packages\\sklearn\\linear_model\\_coordinate_descent.py:648: ConvergenceWarning: Objective did not converge. You might want to increase the number of iterations, check the scale of the features or consider increasing regularisation. Duality gap: 2.246e+03, tolerance: 5.286e-01\n",
      "  model = cd_fast.enet_coordinate_descent(\n"
     ]
    }
   ],
   "source": [
    "corr_predictions, corr_coefficients, corr_errors = run_models(corr_temp)"
   ],
   "metadata": {
    "collapsed": false
   }
  },
  {
   "cell_type": "code",
   "execution_count": 61,
   "outputs": [
    {
     "data": {
      "text/plain": "    Least Squares      Lasso      Ridge  Elastic Net\n0       78.509044  61.487485  70.883741    61.533413\n1       58.610808  61.365843  57.204606    61.404803\n2       37.800325  61.128624  50.683426    61.157829\n3       45.644916  60.752885  52.166857    60.770902\n4       63.492211  60.221612  58.152970    60.228192\n5       73.428300  59.525065  64.118235    59.520965\n6       70.891483  58.662269  66.825273    58.649062\n7       61.237051  57.642630  65.292750    57.622495\n8       52.262275  56.487601  60.597623    56.463107\n9       48.664610  55.232320  54.943006    55.206200\n10      50.310036  53.927068  50.505323    53.901987\n11      53.722466  52.638356  48.515435    52.616680\n12      55.059122  51.449368  48.873105    51.432953\n13      52.700795  50.459419  50.385823    50.449414\n14      48.149878  49.781956  51.504743    49.778657\n15      44.882971  49.540568  51.245500    49.543332\n16      45.838667  49.862269  49.873149    49.869522\n17      51.024861  50.867236  48.941598    50.876616\n18      56.993465  52.653960  50.451833    52.662631\n19      59.343809  55.278600  55.273193    55.283800\n20      57.669217  58.727113  61.601085    58.727004\n21      59.144173  62.878481  65.146002    62.873383\n22      71.952242  67.457110  64.005804    67.451212\n23      72.667277  71.972162  72.808921    71.975843",
      "text/html": "<div>\n<style scoped>\n    .dataframe tbody tr th:only-of-type {\n        vertical-align: middle;\n    }\n\n    .dataframe tbody tr th {\n        vertical-align: top;\n    }\n\n    .dataframe thead th {\n        text-align: right;\n    }\n</style>\n<table border=\"1\" class=\"dataframe\">\n  <thead>\n    <tr style=\"text-align: right;\">\n      <th></th>\n      <th>Least Squares</th>\n      <th>Lasso</th>\n      <th>Ridge</th>\n      <th>Elastic Net</th>\n    </tr>\n  </thead>\n  <tbody>\n    <tr>\n      <th>0</th>\n      <td>78.509044</td>\n      <td>61.487485</td>\n      <td>70.883741</td>\n      <td>61.533413</td>\n    </tr>\n    <tr>\n      <th>1</th>\n      <td>58.610808</td>\n      <td>61.365843</td>\n      <td>57.204606</td>\n      <td>61.404803</td>\n    </tr>\n    <tr>\n      <th>2</th>\n      <td>37.800325</td>\n      <td>61.128624</td>\n      <td>50.683426</td>\n      <td>61.157829</td>\n    </tr>\n    <tr>\n      <th>3</th>\n      <td>45.644916</td>\n      <td>60.752885</td>\n      <td>52.166857</td>\n      <td>60.770902</td>\n    </tr>\n    <tr>\n      <th>4</th>\n      <td>63.492211</td>\n      <td>60.221612</td>\n      <td>58.152970</td>\n      <td>60.228192</td>\n    </tr>\n    <tr>\n      <th>5</th>\n      <td>73.428300</td>\n      <td>59.525065</td>\n      <td>64.118235</td>\n      <td>59.520965</td>\n    </tr>\n    <tr>\n      <th>6</th>\n      <td>70.891483</td>\n      <td>58.662269</td>\n      <td>66.825273</td>\n      <td>58.649062</td>\n    </tr>\n    <tr>\n      <th>7</th>\n      <td>61.237051</td>\n      <td>57.642630</td>\n      <td>65.292750</td>\n      <td>57.622495</td>\n    </tr>\n    <tr>\n      <th>8</th>\n      <td>52.262275</td>\n      <td>56.487601</td>\n      <td>60.597623</td>\n      <td>56.463107</td>\n    </tr>\n    <tr>\n      <th>9</th>\n      <td>48.664610</td>\n      <td>55.232320</td>\n      <td>54.943006</td>\n      <td>55.206200</td>\n    </tr>\n    <tr>\n      <th>10</th>\n      <td>50.310036</td>\n      <td>53.927068</td>\n      <td>50.505323</td>\n      <td>53.901987</td>\n    </tr>\n    <tr>\n      <th>11</th>\n      <td>53.722466</td>\n      <td>52.638356</td>\n      <td>48.515435</td>\n      <td>52.616680</td>\n    </tr>\n    <tr>\n      <th>12</th>\n      <td>55.059122</td>\n      <td>51.449368</td>\n      <td>48.873105</td>\n      <td>51.432953</td>\n    </tr>\n    <tr>\n      <th>13</th>\n      <td>52.700795</td>\n      <td>50.459419</td>\n      <td>50.385823</td>\n      <td>50.449414</td>\n    </tr>\n    <tr>\n      <th>14</th>\n      <td>48.149878</td>\n      <td>49.781956</td>\n      <td>51.504743</td>\n      <td>49.778657</td>\n    </tr>\n    <tr>\n      <th>15</th>\n      <td>44.882971</td>\n      <td>49.540568</td>\n      <td>51.245500</td>\n      <td>49.543332</td>\n    </tr>\n    <tr>\n      <th>16</th>\n      <td>45.838667</td>\n      <td>49.862269</td>\n      <td>49.873149</td>\n      <td>49.869522</td>\n    </tr>\n    <tr>\n      <th>17</th>\n      <td>51.024861</td>\n      <td>50.867236</td>\n      <td>48.941598</td>\n      <td>50.876616</td>\n    </tr>\n    <tr>\n      <th>18</th>\n      <td>56.993465</td>\n      <td>52.653960</td>\n      <td>50.451833</td>\n      <td>52.662631</td>\n    </tr>\n    <tr>\n      <th>19</th>\n      <td>59.343809</td>\n      <td>55.278600</td>\n      <td>55.273193</td>\n      <td>55.283800</td>\n    </tr>\n    <tr>\n      <th>20</th>\n      <td>57.669217</td>\n      <td>58.727113</td>\n      <td>61.601085</td>\n      <td>58.727004</td>\n    </tr>\n    <tr>\n      <th>21</th>\n      <td>59.144173</td>\n      <td>62.878481</td>\n      <td>65.146002</td>\n      <td>62.873383</td>\n    </tr>\n    <tr>\n      <th>22</th>\n      <td>71.952242</td>\n      <td>67.457110</td>\n      <td>64.005804</td>\n      <td>67.451212</td>\n    </tr>\n    <tr>\n      <th>23</th>\n      <td>72.667277</td>\n      <td>71.972162</td>\n      <td>72.808921</td>\n      <td>71.975843</td>\n    </tr>\n  </tbody>\n</table>\n</div>"
     },
     "execution_count": 61,
     "metadata": {},
     "output_type": "execute_result"
    }
   ],
   "source": [
    "corr_predictions"
   ],
   "metadata": {
    "collapsed": false
   }
  },
  {
   "cell_type": "code",
   "execution_count": 62,
   "outputs": [
    {
     "data": {
      "text/plain": "    Least Squares         Lasso         Ridge   Elastic Net\n0    0.000000e+00  0.000000e+00  0.000000e+00  0.000000e+00\n1    4.193838e+02  0.000000e+00 -6.630694e+00  0.000000e+00\n2   -3.596352e+02 -2.836784e-02 -9.002486e+00 -3.132722e-02\n3    1.430911e+02 -5.502118e-03  3.555985e+00 -5.217621e-03\n4   -3.143079e+01  1.170550e-04 -2.404496e-01  1.118073e-04\n5    4.166292e+00  6.734885e-06 -6.800707e-02  6.635561e-06\n6   -3.475167e-01  1.869762e-07  1.473224e-02  1.858275e-07\n7    1.837059e-02  3.069786e-09 -1.257036e-03  3.076443e-09\n8   -5.973191e-04 -2.748786e-11  5.583324e-05 -2.629343e-11\n9    1.089965e-05 -5.540842e-12 -1.276730e-06 -5.480089e-12\n10  -8.543549e-08 -3.431827e-13  1.189950e-08 -3.407262e-13",
      "text/html": "<div>\n<style scoped>\n    .dataframe tbody tr th:only-of-type {\n        vertical-align: middle;\n    }\n\n    .dataframe tbody tr th {\n        vertical-align: top;\n    }\n\n    .dataframe thead th {\n        text-align: right;\n    }\n</style>\n<table border=\"1\" class=\"dataframe\">\n  <thead>\n    <tr style=\"text-align: right;\">\n      <th></th>\n      <th>Least Squares</th>\n      <th>Lasso</th>\n      <th>Ridge</th>\n      <th>Elastic Net</th>\n    </tr>\n  </thead>\n  <tbody>\n    <tr>\n      <th>0</th>\n      <td>0.000000e+00</td>\n      <td>0.000000e+00</td>\n      <td>0.000000e+00</td>\n      <td>0.000000e+00</td>\n    </tr>\n    <tr>\n      <th>1</th>\n      <td>4.193838e+02</td>\n      <td>0.000000e+00</td>\n      <td>-6.630694e+00</td>\n      <td>0.000000e+00</td>\n    </tr>\n    <tr>\n      <th>2</th>\n      <td>-3.596352e+02</td>\n      <td>-2.836784e-02</td>\n      <td>-9.002486e+00</td>\n      <td>-3.132722e-02</td>\n    </tr>\n    <tr>\n      <th>3</th>\n      <td>1.430911e+02</td>\n      <td>-5.502118e-03</td>\n      <td>3.555985e+00</td>\n      <td>-5.217621e-03</td>\n    </tr>\n    <tr>\n      <th>4</th>\n      <td>-3.143079e+01</td>\n      <td>1.170550e-04</td>\n      <td>-2.404496e-01</td>\n      <td>1.118073e-04</td>\n    </tr>\n    <tr>\n      <th>5</th>\n      <td>4.166292e+00</td>\n      <td>6.734885e-06</td>\n      <td>-6.800707e-02</td>\n      <td>6.635561e-06</td>\n    </tr>\n    <tr>\n      <th>6</th>\n      <td>-3.475167e-01</td>\n      <td>1.869762e-07</td>\n      <td>1.473224e-02</td>\n      <td>1.858275e-07</td>\n    </tr>\n    <tr>\n      <th>7</th>\n      <td>1.837059e-02</td>\n      <td>3.069786e-09</td>\n      <td>-1.257036e-03</td>\n      <td>3.076443e-09</td>\n    </tr>\n    <tr>\n      <th>8</th>\n      <td>-5.973191e-04</td>\n      <td>-2.748786e-11</td>\n      <td>5.583324e-05</td>\n      <td>-2.629343e-11</td>\n    </tr>\n    <tr>\n      <th>9</th>\n      <td>1.089965e-05</td>\n      <td>-5.540842e-12</td>\n      <td>-1.276730e-06</td>\n      <td>-5.480089e-12</td>\n    </tr>\n    <tr>\n      <th>10</th>\n      <td>-8.543549e-08</td>\n      <td>-3.431827e-13</td>\n      <td>1.189950e-08</td>\n      <td>-3.407262e-13</td>\n    </tr>\n  </tbody>\n</table>\n</div>"
     },
     "execution_count": 62,
     "metadata": {},
     "output_type": "execute_result"
    }
   ],
   "source": [
    "corr_coefficients"
   ],
   "metadata": {
    "collapsed": false
   }
  },
  {
   "cell_type": "code",
   "execution_count": 63,
   "outputs": [
    {
     "data": {
      "text/plain": "   Least Squares       Lasso       Ridge  Elastic Net\n0     119.051884  187.138747  153.525628   187.168966",
      "text/html": "<div>\n<style scoped>\n    .dataframe tbody tr th:only-of-type {\n        vertical-align: middle;\n    }\n\n    .dataframe tbody tr th {\n        vertical-align: top;\n    }\n\n    .dataframe thead th {\n        text-align: right;\n    }\n</style>\n<table border=\"1\" class=\"dataframe\">\n  <thead>\n    <tr style=\"text-align: right;\">\n      <th></th>\n      <th>Least Squares</th>\n      <th>Lasso</th>\n      <th>Ridge</th>\n      <th>Elastic Net</th>\n    </tr>\n  </thead>\n  <tbody>\n    <tr>\n      <th>0</th>\n      <td>119.051884</td>\n      <td>187.138747</td>\n      <td>153.525628</td>\n      <td>187.168966</td>\n    </tr>\n  </tbody>\n</table>\n</div>"
     },
     "execution_count": 63,
     "metadata": {},
     "output_type": "execute_result"
    }
   ],
   "source": [
    "corr_errors"
   ],
   "metadata": {
    "collapsed": false
   }
  },
  {
   "cell_type": "markdown",
   "source": [
    "<h1>Variance</h1>"
   ],
   "metadata": {
    "collapsed": false
   }
  },
  {
   "cell_type": "code",
   "execution_count": null,
   "outputs": [],
   "source": [],
   "metadata": {
    "collapsed": false
   }
  }
 ],
 "metadata": {
  "kernelspec": {
   "display_name": "Python 3",
   "language": "python",
   "name": "python3"
  },
  "language_info": {
   "codemirror_mode": {
    "name": "ipython",
    "version": 2
   },
   "file_extension": ".py",
   "mimetype": "text/x-python",
   "name": "python",
   "nbconvert_exporter": "python",
   "pygments_lexer": "ipython2",
   "version": "2.7.6"
  }
 },
 "nbformat": 4,
 "nbformat_minor": 0
}
