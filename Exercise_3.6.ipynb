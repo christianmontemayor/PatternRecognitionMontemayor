{
 "cells": [
  {
   "cell_type": "code",
   "execution_count": 6,
   "outputs": [],
   "source": [
    "import numpy as np\n",
    "import matplotlib.pyplot as plt\n",
    "\n",
    "def plotFlow(X):\n",
    "    ## Plot Mode 2\n",
    "    vortmin = -5\n",
    "    vortmax = 5\n",
    "    V2 = np.copy(np.real(np.reshape(X,(449,199))))\n",
    "    V2 = V2.T\n",
    "\n",
    "    # normalize values... not symmetric\n",
    "    minval = np.min(V2)\n",
    "    maxval = np.max(V2)\n",
    "\n",
    "    if np.abs(minval) < 5 and np.abs(maxval) < 5:\n",
    "        if np.abs(minval) > np.abs(maxval):\n",
    "            vortmax = maxval\n",
    "            vortmin = -maxval\n",
    "        else:\n",
    "            vortmin = minval\n",
    "            vortmax = -minval\n",
    "\n",
    "    V2[V2 > vortmax] = vortmax\n",
    "    V2[V2 < vortmin] = vortmin\n",
    "\n",
    "    plt.imshow(V2,cmap='jet',vmin=vortmin,vmax=vortmax)\n",
    "\n",
    "    cvals = np.array([-4,-2,-1,-0.5,-0.25,-0.155])\n",
    "    plt.contour(V2,cvals*vortmax/5,colors='k',linestyles='dashed',linewidths=1)\n",
    "    plt.contour(V2,np.flip(-cvals)*vortmax/5,colors='k',linestyles='solid',linewidths=0.4)\n",
    "\n",
    "    plt.scatter(49,99,5000,color='k') # draw cylinder"
   ],
   "metadata": {
    "collapsed": false
   }
  },
  {
   "cell_type": "code",
   "execution_count": 19,
   "outputs": [],
   "source": [
    "import imageio.v2 as imageio\n",
    "\n",
    "def createMovie(X):\n",
    "    plt.rcParams['figure.figsize'] = [8, 8]\n",
    "    filenames = []\n",
    "    for i in range(151):\n",
    "        plotFlow(X[:,i])\n",
    "        filename = './pics/full'+str(i)+'.png'\n",
    "        filenames.append(filename)\n",
    "        plt.savefig(filename)\n",
    "        plt.close()\n",
    "    with imageio.get_writer('vortices.gif', mode='I') as writer:\n",
    "        for filename in filenames:\n",
    "            image = imageio.imread(filename)\n",
    "            writer.append_data(image)\n",
    "\n",
    "    for filename in set(filenames):\n",
    "        os.remove(filename)"
   ],
   "metadata": {
    "collapsed": false
   }
  },
  {
   "cell_type": "code",
   "execution_count": 16,
   "metadata": {
    "collapsed": true
   },
   "outputs": [],
   "source": [
    "import os\n",
    "import scipy.io\n",
    "import scipy.misc\n",
    "\n",
    "plt.rcParams['figure.figsize'] = [10, 10]\n",
    "plt.rcParams.update({'font.size': 18})\n",
    "\n",
    "VORTALL = scipy.io.loadmat(os.path.join('VORTALL'))['VORTALL']"
   ]
  },
  {
   "cell_type": "code",
   "execution_count": 22,
   "outputs": [],
   "source": [
    "createMovie(VORTALL)"
   ],
   "metadata": {
    "collapsed": false
   }
  },
  {
   "cell_type": "markdown",
   "source": [
    "<img src=\"vortices.gif\" align=\"center\">"
   ],
   "metadata": {
    "collapsed": false
   }
  }
 ],
 "metadata": {
  "kernelspec": {
   "display_name": "Python 3",
   "language": "python",
   "name": "python3"
  },
  "language_info": {
   "codemirror_mode": {
    "name": "ipython",
    "version": 2
   },
   "file_extension": ".py",
   "mimetype": "text/x-python",
   "name": "python",
   "nbconvert_exporter": "python",
   "pygments_lexer": "ipython2",
   "version": "2.7.6"
  }
 },
 "nbformat": 4,
 "nbformat_minor": 0
}
